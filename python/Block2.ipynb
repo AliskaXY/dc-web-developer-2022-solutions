{
 "cells": [
  {
   "cell_type": "markdown",
   "id": "3317832a-9de8-4b60-8dd3-9be240deb275",
   "metadata": {},
   "source": [
    "# 10. Функции. Аргументы 1\n",
    "Допустим, ваша компания каждый месяц выделяет некоторую сумму денег на подарки сотрудникам ко дню рождения. Каждый месяц эта сумма разная. Также у вас есть список дней рождения сотрудников. Вам нужно написать удобный инструмент для того, чтобы сотрудники могли понять, сколько денег им ждать на день рождения, если известно, какой бюджет выделяется на месяц и для какого месяца производится подсчет. Для этого напишите функцию gift_count, которая будет принимать:\n",
    "\n",
    "бюджет, который выделяется компанией на месяц\n",
    "номер месяца, на который нужно произвести расчет\n",
    "словарь, где ключи - это имена сотрудников, а значения - datetime.date с датой рождения сотрудника.\n",
    "Функция должна вывести на экран фразу (цифры должны быть подставлены в соответствии со значениями аргументов):\n",
    "\n",
    "Именинники в месяце 5: Иванов Иван Иванович (01.05.1989), Петров Петр Петрович (06.05.1998). При бюджете 20000 они получат по 10000 рублей.\n",
    "Если в ответе получается не целое число, округлите его до меньшего целого. Именинники должны быть выведены в порядке дня рождения по возрастанию (не полной даты рождения, а именно дня). Если в выбранном месяце нет именинников, должна быть выведена строка \"В этом месяце нет именниннков.\"\n",
    "\n",
    "#### Формат ввода\n",
    "birthdays = {\"Иванов Иван Иванович\": datetime.date(1989, 5, 1), \"Петров Петр Петрович\": datetime.date(1998, 5, 6)}\n",
    "\n",
    "gift_count(20000, 5, birthdays)\n",
    "\n",
    "gift_count(budget=20000, month=5, birthdays=birthdays)\n",
    "\n",
    "#### Формат вывода\n",
    "Именинники в месяце 5: Иванов Иван Иванович (01.05.1989), Петров Петр Петрович (06.05.1998). При бюджете 20000 они получат по 10000 рублей.\n",
    "\n",
    "#### Примечания\n",
    "В примере формата ввода показаны несколько вариантов вызова функции gift_count: с порядковыми аргументами и с передачей их по имени. Соответственно, аргументы функции должны называться так же, как они используются в примере."
   ]
  },
  {
   "cell_type": "code",
   "execution_count": 1,
   "id": "6a79151b-4f45-4863-8fb3-4bd64422f8c8",
   "metadata": {},
   "outputs": [],
   "source": [
    "def gift_count(budget, month, birthdays):\n",
    "    lst1 = []\n",
    "    for elem in birthdays.values():\n",
    "        if elem.month == month:\n",
    "            lst1.append(elem.day)\n",
    "    lst1 = sorted(lst1)\n",
    "    if lst1 != []:\n",
    "        gift_for_one = budget // len(lst1)\n",
    "        for elem in birthdays.values():\n",
    "            for i in range(len(lst1)):\n",
    "                if elem.day == lst1[i] and elem.month == month:\n",
    "                    lst1[i] = elem           \n",
    "        for key, value in birthdays.items():\n",
    "            for i in range(len(lst1)):\n",
    "                if value == lst1[i]:\n",
    "                    lst1[i] = ' '.join([key,\"({:02}.{:02}.{})\".format(value.day, value.month, value.year)])\n",
    "        lst1 = ', '.join(lst1)\n",
    "        print(f'Именинники в месяце {month}: {lst1}. При бюджете {budget} они получат по {gift_for_one} рублей.')\n",
    "    elif lst1 == []:\n",
    "        print('В этом месяце нет именниннков.')"
   ]
  },
  {
   "cell_type": "code",
   "execution_count": 2,
   "id": "6c2ac56a-fbd5-4714-bde6-65beedb677c9",
   "metadata": {},
   "outputs": [
    {
     "name": "stdout",
     "output_type": "stream",
     "text": [
      "Именинники в месяце 1: Ваня (06.01.1989). При бюджете 3000 они получат по 3000 рублей.\n",
      "\n",
      "Именинники в месяце 2: Галя (12.02.1997). При бюджете 3000 они получат по 3000 рублей.\n",
      "\n",
      "Именинники в месяце 3: Анатолий (25.03.1997). При бюджете 3000 они получат по 3000 рублей.\n",
      "\n",
      "В этом месяце нет именниннков.\n",
      "\n",
      "Именинники в месяце 5: Лелик (06.05.1977), Сеня (08.05.1977), Орзухон (25.05.1999). При бюджете 3000 они получат по 1000 рублей.\n",
      "\n",
      "Именинники в месяце 6: Петя (06.06.1998), Галина (13.06.2000), Евгений (17.06.1997), Олег (25.06.1997). При бюджете 3000 они получат по 750 рублей.\n",
      "\n",
      "Именинники в месяце 7: Сергей (25.07.1987). При бюджете 3000 они получат по 3000 рублей.\n",
      "\n",
      "В этом месяце нет именниннков.\n",
      "\n",
      "В этом месяце нет именниннков.\n",
      "\n",
      "В этом месяце нет именниннков.\n",
      "\n"
     ]
    }
   ],
   "source": [
    "import datetime\n",
    "birthdays = {\"Ваня\": datetime.date(1989, 1, 6), \"Петя\": datetime.date(1998, 6, 6), \"Олег\": datetime.date(1997, 6, 25),\"Орзухон\": datetime.date(1999, 5, 25),\n",
    "             \"Сергей\": datetime.date(1987, 7, 25), \"Галя\": datetime.date(1997, 2, 12), \"Анатолий\": datetime.date(1997, 3, 25), \"Евгений\": datetime.date(1997, 6, 17),\n",
    "             \"Галина\": datetime.date(2000, 6, 13), \"Сеня\": datetime.date(1977, 5, 8), \"Лелик\": datetime.date(1977, 5, 6)}\n",
    "gift_count(budget=3000, month=1, birthdays=birthdays)\n",
    "print('')\n",
    "gift_count(budget=3000, month=2, birthdays=birthdays)\n",
    "print('')\n",
    "gift_count(budget=3000, month=3, birthdays=birthdays)\n",
    "print('')\n",
    "gift_count(budget=3000, month=4, birthdays=birthdays)\n",
    "print('')\n",
    "gift_count(budget=3000, month=5, birthdays=birthdays)\n",
    "print('')\n",
    "gift_count(budget=3000, month=6, birthdays=birthdays)\n",
    "print('')\n",
    "gift_count(budget=3000, month=7, birthdays=birthdays)\n",
    "print('')\n",
    "gift_count(budget=3000, month=8, birthdays=birthdays)\n",
    "print('')\n",
    "gift_count(budget=3000, month=9, birthdays=birthdays)\n",
    "print('')\n",
    "gift_count(budget=3000, month=10, birthdays=birthdays)\n",
    "print('')"
   ]
  },
  {
   "cell_type": "markdown",
   "id": "79cc92f0-34bd-4d54-8540-b544e320c674",
   "metadata": {},
   "source": [
    "# 11. Функции. Аргументы 2\n",
    "Вам нужно написать функцию lists_sum, которая принимает произвольное количество списков чисел, и возвращает сумму всех этих чисел. Предусмотрите дополнительный аргумент unique, который по умолчанию равен False, но если в функцию подается unique=True, то функция должна вернуть сумму всех уникальных чисел из всех списков. Если поданы только пустые списки или списки чисел вообще не поданы в функцию, то считать сумму чисел нулём.\n",
    "\n",
    "#### Формат ввода\n",
    "lists_sum([1, 1], [1], [1, 2, 3])\n",
    "\n",
    "lists_sum([1, 1, 1], [1, 1], unique=True)\n",
    "\n",
    "lists_sum([1, 1, 1], unique=False)\n",
    "\n",
    "Формат вывода\n",
    "lists_sum([1, 1], [1], [1, 2, 3]) == 9\n",
    "\n",
    "lists_sum([1, 1, 1], [1, 1], unique=True) == 1\n",
    "\n",
    "lists_sum([1, 1, 1], unique=False) == 3"
   ]
  },
  {
   "cell_type": "code",
   "execution_count": 3,
   "id": "b8826329-2f95-4956-ae0b-6c76451ae3d4",
   "metadata": {},
   "outputs": [],
   "source": [
    "def lists_sum(*args, unique = False):\n",
    "    a = 0\n",
    "    lst1=[]\n",
    "    if args == None:\n",
    "        a = 0\n",
    "    elif unique == False:\n",
    "        for i in range(len(args)):\n",
    "            lst1.append(sum(args[i]))\n",
    "        a = sum(lst1)\n",
    "    elif unique == True:\n",
    "        for i in range(len(args)):\n",
    "            lst1.extend(args[i])\n",
    "        a = sum(set(lst1))\n",
    "    return a"
   ]
  },
  {
   "cell_type": "code",
   "execution_count": 4,
   "id": "8d0f2fda-18fb-45bd-8386-3c7e80dfa1ea",
   "metadata": {},
   "outputs": [
    {
     "data": {
      "text/plain": [
       "9"
      ]
     },
     "execution_count": 4,
     "metadata": {},
     "output_type": "execute_result"
    }
   ],
   "source": [
    "lists_sum([1, 1], [1], [1, 2, 3])"
   ]
  },
  {
   "cell_type": "code",
   "execution_count": 5,
   "id": "9b73cbbb-c693-4e02-96c9-3d91c57a3509",
   "metadata": {},
   "outputs": [
    {
     "data": {
      "text/plain": [
       "1"
      ]
     },
     "execution_count": 5,
     "metadata": {},
     "output_type": "execute_result"
    }
   ],
   "source": [
    "lists_sum([1, 1, 1], [1, 1], unique=True)"
   ]
  },
  {
   "cell_type": "code",
   "execution_count": 6,
   "id": "de5dacbe-1e61-4e35-a5bb-005459b82b5f",
   "metadata": {},
   "outputs": [
    {
     "data": {
      "text/plain": [
       "3"
      ]
     },
     "execution_count": 6,
     "metadata": {},
     "output_type": "execute_result"
    }
   ],
   "source": [
    "lists_sum([1, 1, 1], unique=False)"
   ]
  },
  {
   "cell_type": "markdown",
   "id": "31c621b3-5970-4524-941f-bba804c62610",
   "metadata": {},
   "source": [
    "# 12. Функции. Переиспользование кода\n",
    "В этом задании вам нужно описать несколько функций, которые будут использовать друг друга в своем коде. Функции нужно описать подряд, в одном файле, и отправить в контест все функции сразу.\n",
    "\n",
    "## Постановка задачи\n",
    "Вы с друзьями периодически собираетесь на лавке у подъезда выпить чаю с баранками. Каждый раз собирается разное количество человек, которое должно скинуть по n рублей на мероприятие. Также у вас в компании есть общак, в который можно докинуть денег, а можно взять. Все транзакции в общак логируются, т.е. у вас есть информация о каждом переводе денег в/из общака для каждого из друзей. Ваша задача - посчитать, сколько денег должен каждый из собравшихся на мероприятие друзей на момент начала мероприятия. Будем считать, что все деньги проходят через общак, поэтому у каждого друга к началу мероприятия уже есть некоторый \"баланс\" в общаке.\n",
    "\n",
    "#### Формат хранения данных\n",
    "Все операции с деньгами хранятся в базе данных и приходят к вам в виде списка словарей вида:\n",
    "\n",
    "    {\"name\": \"Василий\", \"amount\": 500},\n",
    "    {\"name\": \"Петя\", \"amount\": 100},\n",
    "    {\"name\": \"Василий\", \"amount\": -300},\n",
    "]\n",
    "где name - имя друга (считаем, что всех зовут по-разному), amount - сумма, которая добавлена в общак. Если сумма отрицательная - это значит, что друг взял деньги из общака. Также считаем, что скидываются суммы в рублях без копеек.\n",
    "\n",
    "#### Вам нужно описать две функции.\n",
    "\n",
    "get_balance(name, transactions) -> int\n",
    "\n",
    "функция, которая возвращает текущий баланс друга с именем name, исходя из списка транзакций transactions. Если имя name ни разу не встречается в списке transactions, считаем, что баланс этого друга в общаке равен 0 рублей.\n",
    "\n",
    "count_debts(names, amount, transactions) -> dict\n",
    "\n",
    "функция, которая принимает список имен присутствующих на мероприятии друзей names, стоимость баранок и чая на человека amount, а также список транзакций в общак transactions. Вернуть эта функция должна словарь вида {\"имя_друга\": 100}, где 100 - это количество денег, которое он должен скинуть на мероприятие. Если на балансе друга больше денег, чем требуется на мероприятие, то он должен 0 рублей.\n",
    "#### Формат ввода\n",
    "transactions = [ {\"name\": \"Василий\", \"amount\": 500}, {\"name\": \"Петя\", \"amount\": 100}, {\"name\": \"Василий\", \"amount\": -300}, ]\n",
    "\n",
    "get_balance(\"Василий\", transactions)\n",
    "\n",
    "count_debts([\"Василий\", \"Петя\", \"Вова\"], 150, transactions)\n",
    "\n",
    "#### Формат вывода\n",
    "get_balance(\"Василий\", transactions) == 200\n",
    "\n",
    "count_debts([\"Василий\", \"Петя\", \"Вова\"], 150, transactions) == {\"Василий\": 0, \"Петя\": 50, \"Вова\": 150}"
   ]
  },
  {
   "cell_type": "code",
   "execution_count": 7,
   "id": "6959c95d-8742-482a-bb2a-9606abb1e096",
   "metadata": {},
   "outputs": [],
   "source": [
    "def get_balance(name, transactions):\n",
    "    balance = {}\n",
    "    lst1 = []\n",
    "    lst2 = []\n",
    "    for i in range(len(transactions)):\n",
    "        for elem in transactions[i].values():\n",
    "            lst1.append(elem)\n",
    "        lst2.append(lst1[0])    \n",
    "        if lst1[0]==lst2[i] and type(balance.get(name))==int:\n",
    "            lst1[1] += balance.get(name)\n",
    "        balance.update({lst1[0]:lst1[1]})\n",
    "        lst1.clear()\n",
    "    if balance.get(name) != None:\n",
    "        return balance.get(name)\n",
    "    if balance.get(name) == None:\n",
    "        return 0\n",
    "    \n",
    "def count_debts(names, amount, transactions):\n",
    "    dict1 = {}\n",
    "    for i in range(len(names)):\n",
    "        if get_balance(names[i], transactions) >= amount:\n",
    "            dict1.update({names[i]:0})\n",
    "        if get_balance(names[i], transactions) < amount:\n",
    "             dict1.update({names[i]:amount - get_balance(names[i], transactions)})\n",
    "    return dict1"
   ]
  },
  {
   "cell_type": "code",
   "execution_count": 8,
   "id": "724a45be-3f1e-4c9e-8a68-66d9e1d90611",
   "metadata": {},
   "outputs": [
    {
     "data": {
      "text/plain": [
       "200"
      ]
     },
     "execution_count": 8,
     "metadata": {},
     "output_type": "execute_result"
    }
   ],
   "source": [
    "transactions = [ {\"name\": \"Василий\", \"amount\": 500}, {\"name\": \"Петя\", \"amount\": 100}, {\"name\": \"Василий\", \"amount\": -300}, ]\n",
    "get_balance(\"Василий\", transactions)"
   ]
  },
  {
   "cell_type": "code",
   "execution_count": 9,
   "id": "110ff304-60b5-4bcc-946d-bf89525e6bb1",
   "metadata": {},
   "outputs": [
    {
     "data": {
      "text/plain": [
       "{'Василий': 0, 'Петя': 50, 'Вова': 150}"
      ]
     },
     "execution_count": 9,
     "metadata": {},
     "output_type": "execute_result"
    }
   ],
   "source": [
    "count_debts([\"Василий\", \"Петя\", \"Вова\"], 150, transactions)"
   ]
  },
  {
   "cell_type": "code",
   "execution_count": null,
   "id": "62291cf8-4974-4e23-9a52-bf30348fe74d",
   "metadata": {},
   "outputs": [],
   "source": []
  }
 ],
 "metadata": {
  "kernelspec": {
   "display_name": "Python 3 (ipykernel)",
   "language": "python",
   "name": "python3"
  },
  "language_info": {
   "codemirror_mode": {
    "name": "ipython",
    "version": 3
   },
   "file_extension": ".py",
   "mimetype": "text/x-python",
   "name": "python",
   "nbconvert_exporter": "python",
   "pygments_lexer": "ipython3",
   "version": "3.9.12"
  }
 },
 "nbformat": 4,
 "nbformat_minor": 5
}
