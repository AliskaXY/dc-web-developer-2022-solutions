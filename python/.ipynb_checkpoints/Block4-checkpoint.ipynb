{
 "cells": [
  {
   "cell_type": "markdown",
   "id": "840466c7-925d-4cff-8fac-a12b2a623d2c",
   "metadata": {},
   "source": [
    "# 16. Классы 1. Калькулятор\n",
    "Опишите класс Calculator, который будет реализовывать следующие методы и поля:\n",
    "\n",
    "- `sum(self, a, b)` - сложение чисел a и b\n",
    "- `sub(self, a, b)` - вычитание\n",
    "- `mul(self, a, b)` - умножение\n",
    "- `div(self, a, b, mod=False)` - деление. Если параметр mod == True, то метод должен возвращать остаток от деления вместо деления. По умолчанию mod=False.\n",
    "- `history(self, n)` - вывод на экран операции по ее номеру относительно текущего момента (1 - последняя, 2 - предпоследняя). Формат вывода: `sum(5, 15) == 20`\n",
    "- `last` - строка того же формата, что в предыдущем пункте, в которой содержится информация о последней операции по всем созданным объектам калькулятора. Т.е. это последняя операция последнего использованного объекта калькулятор. Если операций пока не было, то None.\n",
    "- `clear(cls)` - метод, который очищает `last`, т.е. присваивает ему значение None.\n",
    "\n",
    "#### Формат вывода\n",
    "При сохранении строк в history и last нужно выводить только один знак после запятой дробного числа. При выполнении деления с mod сам параметр mod не нужно записывать в лог.\n",
    "\n",
    "#### Примечания\n",
    "В примере формата ввода показаны несколько вариантов вызова функции gift_count: с порядковыми аргументами и с передачей их по имени. Соответственно, аргументы функции должны называться так же, как они используются в примере."
   ]
  },
  {
   "cell_type": "code",
   "execution_count": 1,
   "id": "0a6808b8-dc71-4dd4-ade9-bf1324abcb21",
   "metadata": {},
   "outputs": [],
   "source": [
    "class Calculator:\n",
    "    last = None\n",
    "    def __init__(self):\n",
    "        self.operation_lst = []\n",
    "    \n",
    "    def sum(self, a, b):\n",
    "        Calculator.last = f'sum({a}, {b}) == {a+b}'\n",
    "        self.operation_lst.append(Calculator.last)\n",
    "        return a + b\n",
    "    \n",
    "    def sub(self, a, b):\n",
    "        Calculator.last = f'sub({a}, {b}) == {a-b}'\n",
    "        self.operation_lst.append(Calculator.last)\n",
    "        return a - b\n",
    "    \n",
    "    def mul(self, a, b):\n",
    "        Calculator.last = f'mul({a}, {b}) == {a*b}'\n",
    "        self.operation_lst.append(Calculator.last)\n",
    "        return a*b\n",
    "    \n",
    "    def div(self, a, b, mod=False):\n",
    "        if mod == False:\n",
    "            Calculator.last = f'div({a}, {b}) == {a/b}'\n",
    "            self.operation_lst.append(Calculator.last)\n",
    "            return a / b\n",
    "        else:\n",
    "            Calculator.last = f'div({a}, {b}) == {a%b}'\n",
    "            self.operation_lst.append(Calculator.last)\n",
    "            return a % b\n",
    "    \n",
    "    def history(self, n):\n",
    "        if len(self.operation_lst) >= n:\n",
    "            return self.operation_lst[-n]\n",
    "        else:\n",
    "            None\n",
    "    \n",
    "    @classmethod\n",
    "    def clear(cls):\n",
    "        cls.last = None"
   ]
  },
  {
   "cell_type": "code",
   "execution_count": 2,
   "id": "92154e30-8103-4b73-a584-90b195562427",
   "metadata": {},
   "outputs": [
    {
     "data": {
      "text/plain": [
       "5"
      ]
     },
     "execution_count": 2,
     "metadata": {},
     "output_type": "execute_result"
    }
   ],
   "source": [
    "vish1 = Calculator()\n",
    "vish2 = Calculator()\n",
    "vish1.sum(2, 3)"
   ]
  },
  {
   "cell_type": "code",
   "execution_count": 3,
   "id": "9315e2dd-5676-43b3-9996-5e16e32b9b4a",
   "metadata": {},
   "outputs": [
    {
     "data": {
      "text/plain": [
       "30"
      ]
     },
     "execution_count": 3,
     "metadata": {},
     "output_type": "execute_result"
    }
   ],
   "source": [
    "vish1.mul(10, 3)"
   ]
  },
  {
   "cell_type": "code",
   "execution_count": 4,
   "id": "47ad88cb-51c2-4797-bdc4-fba6b6a73ec7",
   "metadata": {},
   "outputs": [
    {
     "data": {
      "text/plain": [
       "2"
      ]
     },
     "execution_count": 4,
     "metadata": {},
     "output_type": "execute_result"
    }
   ],
   "source": [
    "vish1.div(11, 3, mod=True)"
   ]
  },
  {
   "cell_type": "code",
   "execution_count": 5,
   "id": "336c3a43-35d3-4f38-a34e-212d492d8d5c",
   "metadata": {},
   "outputs": [
    {
     "data": {
      "text/plain": [
       "3.6666666666666665"
      ]
     },
     "execution_count": 5,
     "metadata": {},
     "output_type": "execute_result"
    }
   ],
   "source": [
    "vish1.div(11, 3)"
   ]
  },
  {
   "cell_type": "code",
   "execution_count": 6,
   "id": "f9c1ae69-bdbe-4462-b133-2f19b19f54dd",
   "metadata": {},
   "outputs": [
    {
     "data": {
      "text/plain": [
       "'div(11, 3) == 2'"
      ]
     },
     "execution_count": 6,
     "metadata": {},
     "output_type": "execute_result"
    }
   ],
   "source": [
    "vish1.history(2)"
   ]
  },
  {
   "cell_type": "code",
   "execution_count": 7,
   "id": "d320e16a-83c9-48f4-aa12-02c6a698538d",
   "metadata": {},
   "outputs": [
    {
     "data": {
      "text/plain": [
       "7"
      ]
     },
     "execution_count": 7,
     "metadata": {},
     "output_type": "execute_result"
    }
   ],
   "source": [
    "vish1.sub(10, 3)"
   ]
  },
  {
   "cell_type": "code",
   "execution_count": 8,
   "id": "97cdae47-b6c1-4da4-9962-fc0506ea9079",
   "metadata": {},
   "outputs": [],
   "source": [
    "vish1.clear()"
   ]
  },
  {
   "cell_type": "code",
   "execution_count": 9,
   "id": "6807ca88-9adb-4830-9a06-3f9fd5c18d9b",
   "metadata": {},
   "outputs": [
    {
     "data": {
      "text/plain": [
       "'div(11, 3) == 3.6666666666666665'"
      ]
     },
     "execution_count": 9,
     "metadata": {},
     "output_type": "execute_result"
    }
   ],
   "source": [
    "vish1.history(2)"
   ]
  },
  {
   "cell_type": "code",
   "execution_count": 10,
   "id": "dc3f8846-8b39-4ad0-ad93-4426d517ca44",
   "metadata": {},
   "outputs": [
    {
     "data": {
      "text/plain": [
       "66"
      ]
     },
     "execution_count": 10,
     "metadata": {},
     "output_type": "execute_result"
    }
   ],
   "source": [
    "vish1.sum(11, 55)"
   ]
  },
  {
   "cell_type": "code",
   "execution_count": 11,
   "id": "f950807c-e8c9-4d6e-aba0-2f0956c14723",
   "metadata": {},
   "outputs": [
    {
     "data": {
      "text/plain": [
       "'sum(11, 55) == 66'"
      ]
     },
     "execution_count": 11,
     "metadata": {},
     "output_type": "execute_result"
    }
   ],
   "source": [
    "vish1.history(1)"
   ]
  },
  {
   "cell_type": "code",
   "execution_count": 12,
   "id": "47a2120f-2f66-4c43-b51d-a064c56deb61",
   "metadata": {},
   "outputs": [],
   "source": [
    "vish1.history(10)"
   ]
  },
  {
   "cell_type": "code",
   "execution_count": 13,
   "id": "aca85b74-b889-481d-b76b-fa2cdf7ed196",
   "metadata": {},
   "outputs": [
    {
     "data": {
      "text/plain": [
       "0.5"
      ]
     },
     "execution_count": 13,
     "metadata": {},
     "output_type": "execute_result"
    }
   ],
   "source": [
    "vish1.div(1,2)"
   ]
  },
  {
   "cell_type": "code",
   "execution_count": 14,
   "id": "3a2c5a47-18a0-4688-b1c9-f634592fb0cf",
   "metadata": {},
   "outputs": [
    {
     "data": {
      "text/plain": [
       "-1"
      ]
     },
     "execution_count": 14,
     "metadata": {},
     "output_type": "execute_result"
    }
   ],
   "source": [
    "vish1.sub(1,2)"
   ]
  },
  {
   "cell_type": "code",
   "execution_count": 15,
   "id": "7ed558b3-f325-41a7-8de1-c9e7f83f01aa",
   "metadata": {},
   "outputs": [
    {
     "data": {
      "text/plain": [
       "'sub(1, 2) == -1'"
      ]
     },
     "execution_count": 15,
     "metadata": {},
     "output_type": "execute_result"
    }
   ],
   "source": [
    "Calculator.last"
   ]
  },
  {
   "cell_type": "markdown",
   "id": "70ea340d-fb98-4219-9f1c-70edd2ae2657",
   "metadata": {},
   "source": [
    "# 17. Классы 2. Кошельки\n",
    "Написать классы, которые будут использованы как счета в банке. Каждый счет - в своей валюте. Соответственно, у каждого объекта счета должны быть атрибуты с суммой денег, хранящихся на нём, и название кошелька. Каждый класс счета должен в себе хранить коэффициент отношения стоимости своей валюты к базовой валюте.\n",
    "\n",
    "Нам понадобится один базовый класс `BaseWallet`, в котором будут реализованы общие для всех валютных счетов методы, и три класса для конкретных валютных счетов: `RubbleWallet, DollarWallet, EuroWallet`. Будем считать коэффициентами отношения валют к базовой валюте:\n",
    "\n",
    "- Рубль: 1\n",
    "- Доллар: 60\n",
    "- Евро: 70\n",
    "\n",
    "Протокол взаимодействия объектов следующий:\n",
    "\n",
    "- `RubbleWallet(\"Первый кошелек\", 10)`, где \"Первый кошелек\" - это название кошелька, а 10 - сумма денег на нём.\n",
    "- аналогичные конструкторы для других счетов\n",
    "- `RubbleWallet(\"X\", 10) + 20 == RubbleWallet(\"X\", 30)` - при сложении с числом считаем, что это та же валюта.\n",
    "- `RubbleWallet(\"X\", 10) += 20` - должен поддерживаться и такой синтаксис\n",
    "- `20 + RubbleWallet(\"X\", 10) == RubbleWallet(\"X\", 30)` - radd для чисел\n",
    "- `RubbleWallet(\"X\", 20) + DollarWallet(\"D\", 10) == RubbleWallet(\"X\", 620)` - конвертация валюты при сложении счетов.\n",
    "- `DollarWallet(\"D\", 2) + RubbleWallet(\"X\", 60) == DollarWallet(\"D\", 3)` - результат - в валюте первого слагаемого.\n",
    "- `DollarWallet(\"D\", 2) += RubbleWallet(\"X\", 60)` - здесь тоже должен поддерживаться этот синтаксис.\n",
    "- предыдущие 6 пунктов реализовать и для вычитания\n",
    "- `RubbleWallet(\"X\", 10) * 20 == RubbleWallet(\"X\", 200)` - умножение на число\n",
    "- `RubbleWallet(\"X\", 10) *= 20` - тоже с таким синтаксисом\n",
    "- те же 2 пункта для деления\n",
    "- `20 * RubbleWallet(\"X\", 10) == RubbleWallet(\"X\", 200)` - умножение числа на кошелек\n",
    "- `DollarWallet(\"A\", 15) == DollarWallet(\"B\", 15)`: два объекта равны, если у них совпадает тип кошелька и сумма на счете.\n",
    "- `RubbleWallet(\"X\", 100).spend_all()` - для любого типа кошелька релизовать функцию, которая обнуляет баланс, если он положительный\n",
    "- `DollarWallet(\"X\", 1).to_base() == 60` - эта функция должна возвращать число денег в кошельке в базовой валюте\n",
    "- `print(DollarWallet(\"Q\", 150))` - должна выводить строку: 'Dollar Wallet Q 150' (и аналогично Rubble и Euro для остальных кошельков)\n",
    "\n",
    "У каждого объекта должны быть доступны атрибуты:\n",
    "\n",
    "- `name` - название кошелька\n",
    "- `amount` - количество денег на счете\n",
    "- `exchange_rate` - коэффициент стоимости валюты к базовой"
   ]
  },
  {
   "cell_type": "code",
   "execution_count": 47,
   "id": "e952f4fa-939d-496f-85d1-7ea70eb55ca8",
   "metadata": {},
   "outputs": [],
   "source": [
    "class BaseWallet:\n",
    "    exchange_rate = 1\n",
    "    \n",
    "    def __init__(self, name, amount):\n",
    "        self.name = name\n",
    "        self.amount = amount\n",
    "    \n",
    "    def __str__(self):\n",
    "        return ': '.join([self.name, str(self.amount)])\n",
    "    \n",
    "    def __repr__(self):\n",
    "        return str(self)\n",
    "    \n",
    "    # Потратить все\n",
    "    def spend_all(self):\n",
    "        if self.amount > 0:\n",
    "            self.amount = 0\n",
    "        return self.__class__(self.name, self.amount)\n",
    "              \n",
    "    # Привести к базовой валюте\n",
    "    def to_base(self):\n",
    "        return self.amount*self.exchange_rate\n",
    "    \n",
    "    # сложение\n",
    "    def __add__(self, other):\n",
    "        if isinstance(other, BaseWallet):\n",
    "            new_amount = self.amount + (other.amount * other.exchange_rate / self.exchange_rate)    \n",
    "        else:\n",
    "            new_amount = self.amount + float(other)\n",
    "        return self.__class__(self.name, new_amount)\n",
    "    \n",
    "    def __radd__(self, other):\n",
    "        return self.__class__(self.name, self.amount) + other\n",
    "    \n",
    "    def __iadd__(self, other):\n",
    "        return self.__class__(self.name, self.amount) + other\n",
    "    \n",
    "    # вычитание\n",
    "    def __sub__(self, other):\n",
    "        if isinstance(other, BaseWallet):\n",
    "            new_amount = self.amount - (other.amount * other.exchange_rate / self.exchange_rate)\n",
    "        else:\n",
    "            new_amount = self.amount - float(other)\n",
    "        return self.__class__(self.name, new_amount)\n",
    "    \n",
    "    def __rsub__(self, other):\n",
    "        return self.__class__(self.name, float(other) - self.amount)\n",
    "    \n",
    "    def __isub__(self, other):\n",
    "        return self.__class__(self.name, self.amount) - other\n",
    "    \n",
    "    # умножение на число\n",
    "    def __mul__(self, other):\n",
    "        return self.__class__(self.name, self.amount * float(other))\n",
    "    \n",
    "    def __rmul__(self, other):\n",
    "        return self.__class__(self.name, self.amount) * other\n",
    "    \n",
    "    def __imul__(self, other):\n",
    "        return self.__class__(self.name, self.amount) * other\n",
    "    \n",
    "    # деление на число\n",
    "    def __truediv__(self, other):\n",
    "        return self.__class__(self.name, self.amount / float(other))\n",
    "    \n",
    "    def __itruediv__(self, other):\n",
    "        return self.__class__(self.name, self.amount / float(other))\n",
    "    \n",
    "    # сравнение\n",
    "    def __eq__(self, other):\n",
    "        if self.amount == other.amount and self.__class__ == other.__class__:\n",
    "            return True\n",
    "        else:\n",
    "            return False\n",
    "          \n",
    "class RubbleWallet(BaseWallet):\n",
    "    exchange_rate = 1\n",
    "    \n",
    "    def __str__(self):\n",
    "        return ' '.join(['Rubble Wallet', self.name, str(self.amount)])\n",
    "    \n",
    "class DollarWallet(BaseWallet):\n",
    "    exchange_rate = 60\n",
    "    \n",
    "    def __str__(self):\n",
    "        return ' '.join(['Dollar Wallet', self.name, str(self.amount)])    \n",
    "\n",
    "class EuroWallet(BaseWallet):\n",
    "    exchange_rate = 70\n",
    "    \n",
    "    def __str__(self):\n",
    "        return ' '.join(['Euro Wallet', self.name, str(self.amount)])    "
   ]
  },
  {
   "cell_type": "code",
   "execution_count": 17,
   "id": "21bb7c78-25e9-4642-80bd-9336a08379f4",
   "metadata": {},
   "outputs": [
    {
     "data": {
      "text/plain": [
       "First: 30"
      ]
     },
     "execution_count": 17,
     "metadata": {},
     "output_type": "execute_result"
    }
   ],
   "source": [
    "BaseWallet('First', 30)"
   ]
  },
  {
   "cell_type": "code",
   "execution_count": 18,
   "id": "9f00b0a8-ef0c-4e35-837c-024c36e47404",
   "metadata": {},
   "outputs": [
    {
     "data": {
      "text/plain": [
       "First: 55.0"
      ]
     },
     "execution_count": 18,
     "metadata": {},
     "output_type": "execute_result"
    }
   ],
   "source": [
    "BaseWallet('First', 30) + 25"
   ]
  },
  {
   "cell_type": "code",
   "execution_count": 19,
   "id": "b9cf593f-0cf4-419f-ba80-304483838eee",
   "metadata": {},
   "outputs": [
    {
     "data": {
      "text/plain": [
       "First: 55.0"
      ]
     },
     "execution_count": 19,
     "metadata": {},
     "output_type": "execute_result"
    }
   ],
   "source": [
    "25 + BaseWallet('First', 30)"
   ]
  },
  {
   "cell_type": "code",
   "execution_count": 20,
   "id": "4a83f60c-a477-49b4-af0c-e6bf645b5568",
   "metadata": {},
   "outputs": [
    {
     "name": "stdout",
     "output_type": "stream",
     "text": [
      "First: 70.0\n"
     ]
    }
   ],
   "source": [
    "c = BaseWallet('First', 30)\n",
    "c += 40\n",
    "print(c)"
   ]
  },
  {
   "cell_type": "code",
   "execution_count": 21,
   "id": "a85818a3-2364-414d-b2a8-c20aad56172d",
   "metadata": {},
   "outputs": [
    {
     "data": {
      "text/plain": [
       "First: -10.0"
      ]
     },
     "execution_count": 21,
     "metadata": {},
     "output_type": "execute_result"
    }
   ],
   "source": [
    "BaseWallet('First', 30) - 40"
   ]
  },
  {
   "cell_type": "code",
   "execution_count": 22,
   "id": "121754e4-6ab0-4229-ab9b-8c2b6918f840",
   "metadata": {},
   "outputs": [
    {
     "data": {
      "text/plain": [
       "First: -5.0"
      ]
     },
     "execution_count": 22,
     "metadata": {},
     "output_type": "execute_result"
    }
   ],
   "source": [
    "25 - BaseWallet('First', 30)"
   ]
  },
  {
   "cell_type": "code",
   "execution_count": 23,
   "id": "1cab4db3-30c0-47e7-a1cc-b0d6352d7480",
   "metadata": {},
   "outputs": [
    {
     "name": "stdout",
     "output_type": "stream",
     "text": [
      "First: -10.0\n"
     ]
    }
   ],
   "source": [
    "c = BaseWallet('First', 30)\n",
    "c -= 40\n",
    "print(c)"
   ]
  },
  {
   "cell_type": "code",
   "execution_count": 24,
   "id": "254196e0-92cc-4c48-af96-749489422f27",
   "metadata": {},
   "outputs": [
    {
     "data": {
      "text/plain": [
       "First: 750.0"
      ]
     },
     "execution_count": 24,
     "metadata": {},
     "output_type": "execute_result"
    }
   ],
   "source": [
    "BaseWallet('First', 30) * 25"
   ]
  },
  {
   "cell_type": "code",
   "execution_count": 25,
   "id": "590a1a76-cd55-4026-9f1e-299b9757e08e",
   "metadata": {},
   "outputs": [
    {
     "data": {
      "text/plain": [
       "First: 750.0"
      ]
     },
     "execution_count": 25,
     "metadata": {},
     "output_type": "execute_result"
    }
   ],
   "source": [
    "25 * BaseWallet('First', 30)"
   ]
  },
  {
   "cell_type": "code",
   "execution_count": 26,
   "id": "b6b6fd0d-1940-42d8-83de-d1d4568028f9",
   "metadata": {},
   "outputs": [
    {
     "name": "stdout",
     "output_type": "stream",
     "text": [
      "First: 1200.0\n"
     ]
    }
   ],
   "source": [
    "c = BaseWallet('First', 30)\n",
    "c *= 40\n",
    "print(c)"
   ]
  },
  {
   "cell_type": "code",
   "execution_count": 27,
   "id": "84fdb68b-b515-4bc9-aebd-cc5709546b88",
   "metadata": {},
   "outputs": [
    {
     "data": {
      "text/plain": [
       "First: 3.0"
      ]
     },
     "execution_count": 27,
     "metadata": {},
     "output_type": "execute_result"
    }
   ],
   "source": [
    "BaseWallet('First', 30) / 10"
   ]
  },
  {
   "cell_type": "code",
   "execution_count": 28,
   "id": "f0b2ce98-d7ab-4e7d-8703-0c134379c37a",
   "metadata": {},
   "outputs": [
    {
     "name": "stdout",
     "output_type": "stream",
     "text": [
      "First: 3.0\n",
      "Second: 4.5\n"
     ]
    }
   ],
   "source": [
    "c = BaseWallet('First', 30)\n",
    "c /= 10\n",
    "print(c)\n",
    "r = BaseWallet('Second', 45)\n",
    "r /= 10\n",
    "print(r)"
   ]
  },
  {
   "cell_type": "code",
   "execution_count": 29,
   "id": "08abe0fd-3940-4a47-82d4-5abe3f106f70",
   "metadata": {},
   "outputs": [
    {
     "name": "stdout",
     "output_type": "stream",
     "text": [
      "First: 0\n"
     ]
    }
   ],
   "source": [
    "c = c.spend_all()\n",
    "print(c)"
   ]
  },
  {
   "cell_type": "code",
   "execution_count": 30,
   "id": "f40de23e-5e9e-4bb0-a4f1-ea7e7834d9ac",
   "metadata": {},
   "outputs": [
    {
     "name": "stdout",
     "output_type": "stream",
     "text": [
      "Rubble Wallet Second 45\n"
     ]
    }
   ],
   "source": [
    "print(RubbleWallet('Second', 45))"
   ]
  },
  {
   "cell_type": "code",
   "execution_count": 31,
   "id": "1264ea93-7009-4985-873e-4908de5a4a76",
   "metadata": {},
   "outputs": [
    {
     "data": {
      "text/plain": [
       "True"
      ]
     },
     "execution_count": 31,
     "metadata": {},
     "output_type": "execute_result"
    }
   ],
   "source": [
    "RubbleWallet('Second', 45) == RubbleWallet('First', 45)"
   ]
  },
  {
   "cell_type": "code",
   "execution_count": 32,
   "id": "08a32548-42a5-4a3b-9b52-f2f65ca9c57f",
   "metadata": {},
   "outputs": [
    {
     "data": {
      "text/plain": [
       "False"
      ]
     },
     "execution_count": 32,
     "metadata": {},
     "output_type": "execute_result"
    }
   ],
   "source": [
    "RubbleWallet('Second', 45) == BaseWallet('Second', 45)"
   ]
  },
  {
   "cell_type": "code",
   "execution_count": 33,
   "id": "4239073b-e9a9-4fbf-90c7-ded68acb06ed",
   "metadata": {},
   "outputs": [
    {
     "data": {
      "text/plain": [
       "45"
      ]
     },
     "execution_count": 33,
     "metadata": {},
     "output_type": "execute_result"
    }
   ],
   "source": [
    "r = RubbleWallet('Second', 45).to_base()\n",
    "r"
   ]
  },
  {
   "cell_type": "code",
   "execution_count": 34,
   "id": "9ea638c4-b5de-43b7-9821-8329aecdc265",
   "metadata": {},
   "outputs": [
    {
     "data": {
      "text/plain": [
       "False"
      ]
     },
     "execution_count": 34,
     "metadata": {},
     "output_type": "execute_result"
    }
   ],
   "source": [
    "RubbleWallet('Second', 45) == EuroWallet('Second', 45)"
   ]
  },
  {
   "cell_type": "code",
   "execution_count": 35,
   "id": "8f61ebf3-1416-47a4-872e-5498c3dec5c6",
   "metadata": {},
   "outputs": [
    {
     "data": {
      "text/plain": [
       "True"
      ]
     },
     "execution_count": 35,
     "metadata": {},
     "output_type": "execute_result"
    }
   ],
   "source": [
    "EuroWallet('Second', 45) == EuroWallet('X', 45)"
   ]
  },
  {
   "cell_type": "code",
   "execution_count": 36,
   "id": "f840f544-1964-4d07-9943-a3fe9e204a05",
   "metadata": {},
   "outputs": [
    {
     "data": {
      "text/plain": [
       "False"
      ]
     },
     "execution_count": 36,
     "metadata": {},
     "output_type": "execute_result"
    }
   ],
   "source": [
    "EuroWallet('Second', 45) == EuroWallet('X', 35)"
   ]
  },
  {
   "cell_type": "code",
   "execution_count": 37,
   "id": "dec84d55-1bdc-4b79-b44c-8587101009aa",
   "metadata": {},
   "outputs": [
    {
     "data": {
      "text/plain": [
       "3150"
      ]
     },
     "execution_count": 37,
     "metadata": {},
     "output_type": "execute_result"
    }
   ],
   "source": [
    "e = EuroWallet('Second', 45).to_base()\n",
    "e"
   ]
  },
  {
   "cell_type": "code",
   "execution_count": 38,
   "id": "4474bb28-8e90-491c-904d-cd67d641bbc5",
   "metadata": {},
   "outputs": [
    {
     "data": {
      "text/plain": [
       "2700"
      ]
     },
     "execution_count": 38,
     "metadata": {},
     "output_type": "execute_result"
    }
   ],
   "source": [
    "d = DollarWallet('Second', 45).to_base()\n",
    "d"
   ]
  },
  {
   "cell_type": "code",
   "execution_count": 39,
   "id": "6eebfbf6-0841-455e-abed-e3330a17fed1",
   "metadata": {},
   "outputs": [
    {
     "data": {
      "text/plain": [
       "Rubble Wallet Second 90.0"
      ]
     },
     "execution_count": 39,
     "metadata": {},
     "output_type": "execute_result"
    }
   ],
   "source": [
    "RubbleWallet('Second', 45) + RubbleWallet('First', 45)"
   ]
  },
  {
   "cell_type": "code",
   "execution_count": 40,
   "id": "247dbd8a-6fac-415c-bbcf-6795aa027a80",
   "metadata": {},
   "outputs": [
    {
     "data": {
      "text/plain": [
       "Rubble Wallet Second 90.0"
      ]
     },
     "execution_count": 40,
     "metadata": {},
     "output_type": "execute_result"
    }
   ],
   "source": [
    "r = RubbleWallet('Second', 45)\n",
    "r += RubbleWallet('First', 45)\n",
    "r"
   ]
  },
  {
   "cell_type": "code",
   "execution_count": 41,
   "id": "624def61-2aa8-4d0f-a55c-a86780de37ff",
   "metadata": {},
   "outputs": [
    {
     "data": {
      "text/plain": [
       "Rubble Wallet Second 135.0"
      ]
     },
     "execution_count": 41,
     "metadata": {},
     "output_type": "execute_result"
    }
   ],
   "source": [
    "RubbleWallet('Second', 45)*3"
   ]
  },
  {
   "cell_type": "code",
   "execution_count": 42,
   "id": "2bfedc6e-a04d-4c4e-9136-83e16a0162e0",
   "metadata": {},
   "outputs": [
    {
     "data": {
      "text/plain": [
       "Rubble Wallet Second 135.0"
      ]
     },
     "execution_count": 42,
     "metadata": {},
     "output_type": "execute_result"
    }
   ],
   "source": [
    "3*RubbleWallet('Second', 45)"
   ]
  },
  {
   "cell_type": "code",
   "execution_count": 43,
   "id": "e3b4778a-8197-4785-9805-6e21eada3eba",
   "metadata": {},
   "outputs": [
    {
     "data": {
      "text/plain": [
       "Rubble Wallet Second 2745.0"
      ]
     },
     "execution_count": 43,
     "metadata": {},
     "output_type": "execute_result"
    }
   ],
   "source": [
    "RubbleWallet('Second', 45) + DollarWallet('D', 45)"
   ]
  },
  {
   "cell_type": "code",
   "execution_count": 44,
   "id": "94ead3d2-18ee-4109-b846-c5f6860d2d07",
   "metadata": {},
   "outputs": [
    {
     "data": {
      "text/plain": [
       "60"
      ]
     },
     "execution_count": 44,
     "metadata": {},
     "output_type": "execute_result"
    }
   ],
   "source": [
    "dw = DollarWallet('Second', 45)\n",
    "dw.exchange_rate"
   ]
  },
  {
   "cell_type": "code",
   "execution_count": 45,
   "id": "e4dd29f0-eaf0-4676-b51d-df1669bfb342",
   "metadata": {},
   "outputs": [
    {
     "data": {
      "text/plain": [
       "Rubble Wallet Second 0"
      ]
     },
     "execution_count": 45,
     "metadata": {},
     "output_type": "execute_result"
    }
   ],
   "source": [
    "RubbleWallet('Second', 45).spend_all()"
   ]
  },
  {
   "cell_type": "code",
   "execution_count": 46,
   "id": "d3c0ec3b-b024-41f1-b447-a8620ec53977",
   "metadata": {},
   "outputs": [
    {
     "data": {
      "text/plain": [
       "Rubble Wallet Second -45"
      ]
     },
     "execution_count": 46,
     "metadata": {},
     "output_type": "execute_result"
    }
   ],
   "source": [
    "RubbleWallet('Second', -45).spend_all()"
   ]
  },
  {
   "cell_type": "code",
   "execution_count": null,
   "id": "b3f74312-7d7f-417a-9b06-c85628a21ac8",
   "metadata": {},
   "outputs": [],
   "source": []
  }
 ],
 "metadata": {
  "kernelspec": {
   "display_name": "Python 3 (ipykernel)",
   "language": "python",
   "name": "python3"
  },
  "language_info": {
   "codemirror_mode": {
    "name": "ipython",
    "version": 3
   },
   "file_extension": ".py",
   "mimetype": "text/x-python",
   "name": "python",
   "nbconvert_exporter": "python",
   "pygments_lexer": "ipython3",
   "version": "3.9.12"
  }
 },
 "nbformat": 4,
 "nbformat_minor": 5
}
