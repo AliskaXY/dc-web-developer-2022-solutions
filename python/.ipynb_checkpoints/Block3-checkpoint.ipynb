{
 "cells": [
  {
   "cell_type": "markdown",
   "id": "ba259fb8-f064-4fc4-b630-d10f0cc0a413",
   "metadata": {},
   "source": [
    "# 13. Регулярные выражения. Номер телефона и электронная почта\n",
    "Написать функцию, которая на вход принимает строку, а на выход выдает булево значение (True или False), которое истинно, если полученная строка соответствует российскому номеру телефона или адресу электронной почты.\n",
    "\n",
    "Сигнатура функции:\n",
    "\n",
    "check_string(string) -> bool\n",
    "\n",
    "#### Формат ввода\n",
    "+7-916-000-00-00\n",
    "\n",
    "#### Формат вывода\n",
    "True\n",
    "\n",
    "#### Примечания\n",
    "Допустимые форматы телефонов. Код страны - всегда либо 7, либо 8, либо +7, либо опущен; код оператора может быть любой:\n",
    "\n",
    "89160000000\n",
    "\n",
    "+79160000000\n",
    "\n",
    "9160000000\n",
    "\n",
    "8(916)000-00-00\n",
    "\n",
    "+7(916)000-00-00\n",
    "\n",
    "(916)000-00-00\n",
    "\n",
    "8 (916) 000-00-00\n",
    "\n",
    "+7 (916) 000-00-00\n",
    "\n",
    "(916) 000-00-00\n",
    "\n",
    "8(916)0000000\n",
    "\n",
    "+7(916)0000000\n",
    "\n",
    "(916)0000000\n",
    "\n",
    "8-916-000-00-00\n",
    "\n",
    "+7-916-000-00-00\n",
    "\n",
    "916-000-00-00\n",
    "\n",
    "Валидным адресом электронной почты будем считать строки, содержащие @ и не меньше одной точки (после точки - не меньше двух символов), например:\n",
    "\n",
    "abc@abc.ab\n",
    "\n",
    "abc@abc.ab.ab\n",
    "\n",
    "a@ab.ab\n",
    "\n",
    "abc.abc@abc.abc\n",
    "\n",
    "Невалидные адреса:\n",
    "\n",
    "@abc.abc\n",
    "\n",
    "abc@abc\n",
    "\n",
    "abc@abc.a\n",
    "\n",
    "abc@abc.abc.a\n",
    "\n",
    "abc@abc.\n",
    "\n",
    "abc@abc@abc"
   ]
  },
  {
   "cell_type": "code",
   "execution_count": 2,
   "id": "39d4c2a1-a5e7-43fb-874a-97e4cbf338e9",
   "metadata": {},
   "outputs": [],
   "source": [
    "def check_string(string):\n",
    "    pattern1 = re.compile(r'[78]{0,1}[\\s\\-\\(]{0,2}[\\d]{3}[\\s\\-\\)]{0,2}[\\d]{3}[\\s\\-]{0,1}[\\d]{2}[\\s\\-]{0,1}[\\d]{2}$')\n",
    "    pattern2 = re.compile(r'[\\+][7][\\s\\-\\(]{0,2}[\\d]{3}[\\s\\-\\)]{0,2}[\\d]{3}[\\s\\-]{0,1}[\\d]{2}[\\s\\-]{0,1}[\\d]{2}$')\n",
    "    pattern3 = re.compile(r'[^@]+@[\\w\\d]{2,}\\..{2,}')\n",
    "    if pattern1.match(string) or pattern2.match(string) or pattern3.match(string):\n",
    "        return True\n",
    "    else:\n",
    "        return False"
   ]
  },
  {
   "cell_type": "code",
   "execution_count": 3,
   "id": "8d5387bc-23db-4bf0-adbe-c298439d0c14",
   "metadata": {},
   "outputs": [
    {
     "name": "stdout",
     "output_type": "stream",
     "text": [
      "Номера\n",
      "True\n",
      "True\n",
      "True\n",
      "\n",
      "False нет\n",
      "False нет\n",
      "True\n",
      "\n",
      "True\n",
      "True\n",
      "True\n",
      "\n",
      "True\n",
      "True\n",
      "True\n",
      "\n",
      "True\n",
      "True\n",
      "True\n",
      "\n",
      "Почты\n",
      "True\n",
      "True\n",
      "True\n",
      "\n",
      "True\n",
      "False нет\n",
      "False нет\n",
      "\n",
      "False нет\n",
      "False нет\n",
      "\n",
      "False нет\n",
      "\n"
     ]
    }
   ],
   "source": [
    "import re\n",
    "print('Номера')\n",
    "print(check_string('89160000000'))\n",
    "print(check_string('79160000000'))\n",
    "print(check_string('+79160000000'))\n",
    "print('')\n",
    "print(check_string('+791600000000000000'), 'нет')\n",
    "print(check_string('89160000000000000000'), 'нет')\n",
    "print(check_string('8-916-000-00-00'))\n",
    "print('')\n",
    "print(check_string('+7-916-000-00-00'))\n",
    "print(check_string('916-000-00-00'))\n",
    "print(check_string('(916)020-10-00'))\n",
    "print('')\n",
    "print(check_string('8(916)0000000'))\n",
    "print(check_string('9160000000'))\n",
    "print(check_string('+7(916)000-00-00'))\n",
    "print('')\n",
    "print(check_string('8 (916) 000-00-00'))\n",
    "print(check_string('9160000000'))\n",
    "print(check_string('+7 (916) 000-00-00'))\n",
    "print('')\n",
    "print('Почты')\n",
    "print(check_string('abc@abc.ab'))\n",
    "print(check_string('abc@abc.ab.ab'))\n",
    "print(check_string('a@ab.ab'))\n",
    "print('')\n",
    "print(check_string('abc.abc@abc.abc'))\n",
    "print(check_string('@abc.abc'), 'нет')\n",
    "print(check_string('abc@abc.a'), 'нет')\n",
    "print('')\n",
    "print(check_string('abc@abc@abc'), 'нет')\n",
    "print(check_string('abc@abc.'), 'нет')\n",
    "print('')\n",
    "print(check_string('sdf@sdfklj@sdf.sdf'), 'нет')\n",
    "print('')"
   ]
  },
  {
   "cell_type": "markdown",
   "id": "df7c709f-e4f9-4c45-a68e-490ad8288ad4",
   "metadata": {},
   "source": [
    "# 14. Файлы\n",
    "Напишите функцию get_popular_name_from_file(filename), которая считывает файл, в котором в каждой строке записаны имя и фамилия через пробел. filename - это имя файла, в котором записаны эти имена. Вам нужно вернуть строку - самое популярное имя в файле. Если таких имен несколько, они должны быть перечислены через запятую внутри строки в алфавитном порядке.\n",
    "\n",
    "#### Формат ввода\n",
    "Джо Байден\n",
    "\n",
    "Владимир Добрый\n",
    "\n",
    "Владимир Злой\n",
    "\n",
    "Джо Буш\n",
    "\n",
    "Илон Маск\n",
    "\n",
    "#### Формат вывода\n",
    "Владимир, Джо"
   ]
  },
  {
   "cell_type": "code",
   "execution_count": 4,
   "id": "748ea373-1a9a-4e9a-9fd1-fbb152b30b5b",
   "metadata": {},
   "outputs": [],
   "source": [
    "def get_popular_name_from_file(filename, encod = 'UTF-8'):\n",
    "    lst = []\n",
    "    dct = {}\n",
    "    with open(filename, encoding = encod) as file:\n",
    "        for line in file:\n",
    "            if line != '\\n':\n",
    "                lst += line\n",
    "    lst = ' '.join(''.join(lst).split('\\n')).split(' ')[::2]\n",
    "    for i in range(len(lst)):\n",
    "        dct.update({lst[i]:lst.count(lst[i])})\n",
    "    lst = []          \n",
    "    for key, value in dct.items():\n",
    "        if value == max(dct.values()):\n",
    "            lst += [key]\n",
    "    return ', '.join(sorted(lst))"
   ]
  },
  {
   "cell_type": "code",
   "execution_count": 5,
   "id": "8c6af6bc-1b81-4bac-8b97-fc8314224886",
   "metadata": {},
   "outputs": [
    {
     "data": {
      "text/plain": [
       "'Владимир, Джо'"
      ]
     },
     "execution_count": 5,
     "metadata": {},
     "output_type": "execute_result"
    }
   ],
   "source": [
    "get_popular_name_from_file(\"text/Block3names.txt\")"
   ]
  },
  {
   "cell_type": "code",
   "execution_count": 6,
   "id": "493bdd53-b63b-4942-b33b-156213f3107f",
   "metadata": {},
   "outputs": [
    {
     "data": {
      "text/plain": [
       "'Владимир'"
      ]
     },
     "execution_count": 6,
     "metadata": {},
     "output_type": "execute_result"
    }
   ],
   "source": [
    "get_popular_name_from_file(\"text/z14CON.txt\")"
   ]
  },
  {
   "cell_type": "markdown",
   "id": "fba67eb9-ab52-43cd-8930-7aa7551a2aaf",
   "metadata": {},
   "source": [
    "# 15. Парсинг JSON\n",
    "\n",
    "Задачи, аналогичные этой, часто встречаются в реальной веб-разработке. Будем получать и отдавать JSONы. К вам поступают данные в виде json-строки, в которых содержится список людей. Для каждого человека описаны различные его параметры, но вам нужно посчитать просто средний возраст всех людей из списка. Напишите функцию mean_age(json_string), которая принимает json строку, считает средний возраст людей из входных данных и возвращает новую json-строку в том формате, который указан ниже.\n",
    "\n",
    "#### Формат ввода\n",
    "[\n",
    "    {\n",
    "        \"name\": \"Петр\",\n",
    "        \"surname\": \"Петров\",\n",
    "        \"patronymic\": \"Васильевич\",\n",
    "        \"age\": 23,\n",
    "        \"occupation\": \"ойтишнек\"\n",
    "    },\n",
    "    {\n",
    "        \"name\": \"Василий\",\n",
    "        \"surname\": \"Васильев\",\n",
    "        \"patronymic\": \"Петрович\",\n",
    "        \"age\": 24,\n",
    "        \"occupation\": \"дворник\"\n",
    "    }\n",
    "]\n",
    "#### Формат вывода\n",
    "{\"mean_age\": 23.5}"
   ]
  },
  {
   "cell_type": "code",
   "execution_count": 7,
   "id": "bd72fdb3-ced7-4e90-a86c-d7334f6a6bed",
   "metadata": {},
   "outputs": [],
   "source": [
    "def mean_age(json_string):\n",
    "    lst = json.loads(json_string)\n",
    "    count = 0\n",
    "    for i in range(len(lst)):\n",
    "        count += int(lst[i].get('age'))\n",
    "    average_age = count/len(lst)\n",
    "    return json.dumps({\"mean_age\": average_age})"
   ]
  },
  {
   "cell_type": "code",
   "execution_count": 8,
   "id": "df3a34d5-f942-4d53-8f87-c3212123609f",
   "metadata": {},
   "outputs": [
    {
     "data": {
      "text/plain": [
       "'{\"mean_age\": 23.5}'"
      ]
     },
     "execution_count": 8,
     "metadata": {},
     "output_type": "execute_result"
    }
   ],
   "source": [
    "import json\n",
    "mean_age('''[ \n",
    "    { \"name\": \"Петр\", \"surname\": \"Петров\", \"patronymic\": \"Васильевич\", \"age\": 23, \"occupation\": \"ойтишнек\" }, \n",
    "    { \"name\": \"Василий\", \"surname\": \"Васильев\", \"patronymic\": \"Петрович\", \"age\": 24, \"occupation\": \"дворник\" } \n",
    "         ]''')"
   ]
  },
  {
   "cell_type": "code",
   "execution_count": 9,
   "id": "f7b417b0-e552-4430-a2f9-b5d71e47be58",
   "metadata": {},
   "outputs": [
    {
     "name": "stdout",
     "output_type": "stream",
     "text": [
      "[320, {'a': 2, 'b': 4}]\n"
     ]
    }
   ],
   "source": [
    "print(str([320,{'a':2,'b':4}]))"
   ]
  },
  {
   "cell_type": "code",
   "execution_count": null,
   "id": "df64b629-ab1a-4880-b988-9af96f984ddc",
   "metadata": {},
   "outputs": [],
   "source": []
  }
 ],
 "metadata": {
  "kernelspec": {
   "display_name": "Python 3 (ipykernel)",
   "language": "python",
   "name": "python3"
  },
  "language_info": {
   "codemirror_mode": {
    "name": "ipython",
    "version": 3
   },
   "file_extension": ".py",
   "mimetype": "text/x-python",
   "name": "python",
   "nbconvert_exporter": "python",
   "pygments_lexer": "ipython3",
   "version": "3.9.12"
  }
 },
 "nbformat": 4,
 "nbformat_minor": 5
}
