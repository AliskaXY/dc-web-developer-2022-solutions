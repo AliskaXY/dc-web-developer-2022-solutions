{
 "cells": [
  {
   "cell_type": "markdown",
   "id": "82b0bfd7-868f-4105-93ac-48e2d5cb0e1e",
   "metadata": {},
   "source": [
    "# 21. Декораторы 1\n",
    "В первом задании курса предлагается решить классическую задачу с собеседований по питону - написать декоратор, который вычисляет время выполнения оборачиваемой функции. Итак, требования к декоратору:\n",
    "\n",
    "- декоратор должен называться time_decorator\n",
    "- он должен вычислять время в секундах, в течение которого выполняется обернутая функция при ее вызове. Количество секунд должно быть выведено сразу после выполнения оборачиваемой функции. Количество секунд следует округлять до целого числа и выводить целое число\n",
    "- после оборачивания функция должна возвращать тот же результат, который возвращала исходная функция\n",
    "- пробрасывать аргументы из декоратора в функцию необязательно для выполнения этого задания\n",
    "\n",
    "#### Пример использования декоратора\n",
    "```@time_decorator\n",
    "def sleep_1_sec():\n",
    "    time.sleep(1)\n",
    "    print(\"function\")\n",
    "    return 25```\n",
    "\n",
    "result = sleep_1_sec()\n",
    ">function\n",
    "> \n",
    ">1\n",
    "\n",
    "print(result)\n",
    ">25"
   ]
  },
  {
   "cell_type": "code",
   "execution_count": 1,
   "id": "25aa856c-700a-481d-bb32-63ef5aa0b2d7",
   "metadata": {},
   "outputs": [],
   "source": [
    "import timeit\n",
    "def time_decorator(func):\n",
    "    def wrapper(*args, **kwargs):\n",
    "        start_time = timeit.default_timer() \n",
    "        res = func(*args, **kwargs) \n",
    "        print(round(timeit.default_timer() - start_time))\n",
    "        return res    \n",
    "    return wrapper"
   ]
  },
  {
   "cell_type": "code",
   "execution_count": 2,
   "id": "864299b6-23e4-4572-87d7-ef7b0bc42aa4",
   "metadata": {},
   "outputs": [],
   "source": [
    "import time\n",
    "@time_decorator\n",
    "def sleep_1_sec():\n",
    "    time.sleep(1)\n",
    "    print(\"function\")\n",
    "    return 25"
   ]
  },
  {
   "cell_type": "code",
   "execution_count": 3,
   "id": "40c2e380-8f32-4d01-b9f8-4c526de8e182",
   "metadata": {},
   "outputs": [
    {
     "name": "stdout",
     "output_type": "stream",
     "text": [
      "function\n",
      "1\n"
     ]
    }
   ],
   "source": [
    "result = sleep_1_sec()"
   ]
  },
  {
   "cell_type": "code",
   "execution_count": 4,
   "id": "fe94e2ee-37d2-44d5-9ae2-e9785ad1fb3b",
   "metadata": {},
   "outputs": [
    {
     "name": "stdout",
     "output_type": "stream",
     "text": [
      "25\n"
     ]
    }
   ],
   "source": [
    "print(result)"
   ]
  },
  {
   "cell_type": "markdown",
   "id": "828d7e82-1777-4fc3-9564-d0326a26bf3a",
   "metadata": {},
   "source": [
    "# 22. Декораторы 2\n",
    "В этом задании требуется написать фабрику декораторов, которые будут логировать вызовы функций. Чтобы не усложнять, в качестве журнала событий будем использовать списки. Требования к фабрике:\n",
    "\n",
    "- фабрика должна называться `logging_decorator`\n",
    "- при создании декоратора фабрика должна принять требуемый список-логгер в аргументах\n",
    "- обернутая функция должна возвращать тот же результат, который бы вернула оборачиваемая функция\n",
    "- при вызове обернутой функции в список-логгер должен добавляться словарь, в котором будут храниться название функции, список поданных аргументов, время вызова функции и результат, который она вернула. Формат словаря должен быть таким:\n",
    "\n",
    "\n",
    "    {\n",
    "        'name': 'test_function',\n",
    "        'arguments': {'a': 1, 'b': 2},\n",
    "        'call_time': datetime.datetime(2021, 8, 1, 18, 18, 7, 849184),\n",
    "        'result': 127\n",
    "    }\n",
    "\n",
    "Ниже приведен пример использования такого декоратора.\n",
    "\n",
    "#### Пример использования декоратора\n",
    "\n",
    "    logger = []  # этот словарь будет хранить наш \"лог\"\n",
    "\n",
    "    @logging_decorator(logger)  # в аргументы фабрики декораторов подается логгер\n",
    "    def test_simple(a, b=2):\n",
    "        return 127\n",
    "\n",
    "    test_simple(1)  # при вызове функции в список logger должен добавиться словарь с\n",
    "                    # информацией о вызове функции\n",
    "\n",
    "    print(logger)\n",
    "\n",
    "> `[{'name': 'test_simple', 'arguments': {'a': 1, 'b': 2}, 'call_time': datetime.datetime(2021, 8, 1, 18, 18, 7, 849184), 'result': 127}]`"
   ]
  },
  {
   "cell_type": "code",
   "execution_count": 5,
   "id": "16a8268a-5d03-4f2a-a420-83eff96ce77f",
   "metadata": {},
   "outputs": [],
   "source": [
    "import datetime\n",
    "import inspect\n",
    "logger = []\n",
    "def logging_decorator(logger):\n",
    "    def log_dec(func):\n",
    "        def wrapper(*args, **kwargs):\n",
    "            Now = datetime.datetime.now()\n",
    "            name = '{}'.format(func.__name__)\n",
    "            arguments = inspect.getcallargs(func, *args, **kwargs)\n",
    "            res = func(*args, **kwargs)\n",
    "            log_dict = {'name' : name,\n",
    "                        'arguments' : arguments,\n",
    "                        'call_time' : Now,\n",
    "                        'result' : res}\n",
    "            logger.append(log_dict)\n",
    "            return res\n",
    "        return wrapper\n",
    "    return log_dec  "
   ]
  },
  {
   "cell_type": "code",
   "execution_count": 6,
   "id": "e836eefd-ef84-4bc3-84db-eff544585b8c",
   "metadata": {},
   "outputs": [
    {
     "name": "stdout",
     "output_type": "stream",
     "text": [
      "[{'name': 'test_simple', 'arguments': {'a': 1, 'b': 2}, 'call_time': datetime.datetime(2022, 11, 26, 23, 11, 17, 533645), 'result': 127}]\n"
     ]
    }
   ],
   "source": [
    "@logging_decorator(logger)  # в аргументы фабрики декораторов подается логгер\n",
    "def test_simple(a, b=2):\n",
    "    return 127\n",
    "\n",
    "test_simple(1, 2)  # при вызове функции в список logger должен добавиться словарь с\n",
    "                # информацией о вызове функции\n",
    "\n",
    "print(logger)"
   ]
  },
  {
   "cell_type": "code",
   "execution_count": 7,
   "id": "a59a486f-8314-4b4a-833f-7ae83cbcbbac",
   "metadata": {},
   "outputs": [
    {
     "name": "stdout",
     "output_type": "stream",
     "text": [
      "[{'name': 'test_simple', 'arguments': {'a': 1, 'b': 2}, 'call_time': datetime.datetime(2022, 11, 26, 23, 11, 17, 533645), 'result': 127}, {'name': 'test_simple', 'arguments': {'a': 2, 'b': 8}, 'call_time': datetime.datetime(2022, 11, 26, 23, 11, 17, 625142), 'result': 127}]\n"
     ]
    }
   ],
   "source": [
    "test_simple(2, b = 8)\n",
    "print(logger)"
   ]
  },
  {
   "cell_type": "markdown",
   "id": "6f02154d-1ad3-4650-a9eb-712cca14567c",
   "metadata": {},
   "source": [
    "# 23. Сеть\n",
    "[Здесь](https://jsonplaceholder.typicode.com/) описано некоторое API, в котором есть доступ к базе пользователей, постов, комментариев и т.д. Методы, которые мы будем использовать, описаны в разделе Resources. Примеры использования API (правда, на JavaScript'е) описаны на том же сайте по ссылке [Guide](https://jsonplaceholder.typicode.com/guide/). Вам нужно для каждого пользователя посчитать количество оставленных постов и количество оставленных комментариев. Всю информацию для этого нужно стягивать GET-запросами по API. Результат нужно отправить в ваше пространство в https://webhook.site в виде POST-запроса, содержащего JSON следующего формата:\n",
    "\n",
    "```{\n",
    "  \"statistics\": [\n",
    "    {\n",
    "      \"id\": 1,\n",
    "      \"username\": \"lolkek\",\n",
    "      \"email\": \"user1@mail.dot\",\n",
    "      \"posts\": 125,\n",
    "      \"comments\": 1358\n",
    "    },\n",
    "    {\n",
    "      \"id\": 2,\n",
    "      \"username\": \"cheburek\",\n",
    "      \"email\": \"user2@mail.dot\",\n",
    "      \"posts\": 5,\n",
    "      \"comments\": 12\n",
    "    }\n",
    "  ]\n",
    "}```\n",
    "\n",
    "Поскольку среда исполнения Яндекс-контеста не имеет доступа к интернету, проверить правильность выполнения задания вы можете, отправив в качестве ответа на задание \"Сеть\" pickle объекта ответа запроса:\n",
    "\n",
    "```response = requests.post(.....)\n",
    "with open(\"solution.pickle\", 'wb') as f:\n",
    "    pickle.dump(response, \"solution.py\")```\n",
    "    \n",
    "И отправляйте тот файл, который появится в результате исполнения этого кода."
   ]
  },
  {
   "cell_type": "code",
   "execution_count": 24,
   "id": "bd7ffb75-1f54-4d7a-8f82-197507c11d3d",
   "metadata": {},
   "outputs": [],
   "source": [
    "import requests\n",
    "import json\n",
    "\n",
    "resp_users = requests.get('https://jsonplaceholder.typicode.com/users')\n",
    "\n",
    "jsonp_users_data = {resp_users['id'] : {\n",
    "    'id' : resp_users['id'],\n",
    "    'username' : resp_users['username'],\n",
    "    'email' : resp_users['email'],\n",
    "    'posts' : 0,\n",
    "    'comments' : 0\n",
    "     } for resp_users in json.loads(resp_users.content)}\n",
    "users_ids = [id for id in jsonp_users_data]\n",
    "\n",
    "for id in users_ids:\n",
    "    resp_posts = requests.get(f'https://jsonplaceholder.typicode.com/users/{id}/posts')\n",
    "    jsonp_posts_data = json.loads(resp_posts.content)\n",
    "    jsonp_users_data[id]['posts'] = len(jsonp_posts_data)\n",
    "    resp_comments = requests.get(f'https://jsonplaceholder.typicode.com/comments')\n",
    "    jsonp_comments_data = json.loads(resp_comments.content)\n",
    "    comments_count = 0\n",
    "    for i in range(len(jsonp_comments_data)):\n",
    "        if jsonp_users_data[id]['email'] == jsonp_comments_data[i]['email']:\n",
    "            comments_count += 1\n",
    "    jsonp_users_data[id]['comments'] = comments_count     \n",
    "    \n",
    "response = requests.post('https://webhook.site/ac6e2362-3420-4fef-add2-76e30ec16e4f', \n",
    "                        data = json.dumps({\"statistics\":[jsonp_users_data[id] for id in jsonp_users_data]}))"
   ]
  },
  {
   "cell_type": "code",
   "execution_count": 25,
   "id": "a0520fb2-d5f4-480e-bd3f-74eb3ecca800",
   "metadata": {},
   "outputs": [
    {
     "name": "stdout",
     "output_type": "stream",
     "text": [
      "{1: {'id': 1, 'username': 'Bret', 'email': 'Sincere@april.biz', 'posts': 10, 'comments': 0}, 2: {'id': 2, 'username': 'Antonette', 'email': 'Shanna@melissa.tv', 'posts': 10, 'comments': 0}, 3: {'id': 3, 'username': 'Samantha', 'email': 'Nathan@yesenia.net', 'posts': 10, 'comments': 0}, 4: {'id': 4, 'username': 'Karianne', 'email': 'Julianne.OConner@kory.org', 'posts': 10, 'comments': 0}, 5: {'id': 5, 'username': 'Kamren', 'email': 'Lucio_Hettinger@annie.ca', 'posts': 10, 'comments': 0}, 6: {'id': 6, 'username': 'Leopoldo_Corkery', 'email': 'Karley_Dach@jasper.info', 'posts': 10, 'comments': 0}, 7: {'id': 7, 'username': 'Elwyn.Skiles', 'email': 'Telly.Hoeger@billy.biz', 'posts': 10, 'comments': 0}, 8: {'id': 8, 'username': 'Maxime_Nienow', 'email': 'Sherwood@rosamond.me', 'posts': 10, 'comments': 0}, 9: {'id': 9, 'username': 'Delphine', 'email': 'Chaim_McDermott@dana.io', 'posts': 10, 'comments': 0}, 10: {'id': 10, 'username': 'Moriah.Stanton', 'email': 'Rey.Padberg@karina.biz', 'posts': 10, 'comments': 0}}\n",
      "\n",
      "0\n",
      "0\n",
      "0\n",
      "0\n",
      "0\n",
      "0\n",
      "0\n",
      "0\n",
      "0\n",
      "0\n",
      "<Response [200]>\n",
      "{\"statistics\": [{\"id\": 1, \"username\": \"Bret\", \"email\": \"Sincere@april.biz\", \"posts\": 10, \"comments\": 0}, {\"id\": 2, \"username\": \"Antonette\", \"email\": \"Shanna@melissa.tv\", \"posts\": 10, \"comments\": 0}, {\"id\": 3, \"username\": \"Samantha\", \"email\": \"Nathan@yesenia.net\", \"posts\": 10, \"comments\": 0}, {\"id\": 4, \"username\": \"Karianne\", \"email\": \"Julianne.OConner@kory.org\", \"posts\": 10, \"comments\": 0}, {\"id\": 5, \"username\": \"Kamren\", \"email\": \"Lucio_Hettinger@annie.ca\", \"posts\": 10, \"comments\": 0}, {\"id\": 6, \"username\": \"Leopoldo_Corkery\", \"email\": \"Karley_Dach@jasper.info\", \"posts\": 10, \"comments\": 0}, {\"id\": 7, \"username\": \"Elwyn.Skiles\", \"email\": \"Telly.Hoeger@billy.biz\", \"posts\": 10, \"comments\": 0}, {\"id\": 8, \"username\": \"Maxime_Nienow\", \"email\": \"Sherwood@rosamond.me\", \"posts\": 10, \"comments\": 0}, {\"id\": 9, \"username\": \"Delphine\", \"email\": \"Chaim_McDermott@dana.io\", \"posts\": 10, \"comments\": 0}, {\"id\": 10, \"username\": \"Moriah.Stanton\", \"email\": \"Rey.Padberg@karina.biz\", \"posts\": 10, \"comments\": 0}]}\n"
     ]
    }
   ],
   "source": [
    "print(jsonp_users_data)\n",
    "print()\n",
    "for id in users_ids:\n",
    "    print(jsonp_users_data[id]['comments'])\n",
    "print(response)\n",
    "print(json.dumps({\"statistics\":[jsonp_users_data[id] for id in jsonp_users_data]}))"
   ]
  },
  {
   "cell_type": "code",
   "execution_count": 26,
   "id": "21882eb2-5398-46fa-bb17-7cc9f601507c",
   "metadata": {},
   "outputs": [],
   "source": [
    "import pickle\n",
    "with open(\"solution.pickle\", 'wb') as f:     \n",
    "    pickle.dump(response, f)"
   ]
  },
  {
   "cell_type": "code",
   "execution_count": null,
   "id": "d5d757c3-71ee-4bee-a28d-50b418567fba",
   "metadata": {},
   "outputs": [],
   "source": []
  }
 ],
 "metadata": {
  "kernelspec": {
   "display_name": "Python 3 (ipykernel)",
   "language": "python",
   "name": "python3"
  },
  "language_info": {
   "codemirror_mode": {
    "name": "ipython",
    "version": 3
   },
   "file_extension": ".py",
   "mimetype": "text/x-python",
   "name": "python",
   "nbconvert_exporter": "python",
   "pygments_lexer": "ipython3",
   "version": "3.9.12"
  }
 },
 "nbformat": 4,
 "nbformat_minor": 5
}
