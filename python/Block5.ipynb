{
 "cells": [
  {
   "cell_type": "markdown",
   "id": "14280777-5478-41a2-8511-4c19820d22ef",
   "metadata": {},
   "source": [
    "# 18. Эмуляция контейнеров\n",
    "Напишем свой аналог листа таблицы Excel. Нужно написать структуру данных Field, в которой доступ к значениям будет осуществляться по ключам. Ключом будет пара \"буква\" - \"число\", по аналогии с адресом ячейки в Excel. Возможные форматы обращения к одной и той же \"ячейке\" данных:\n",
    "\n",
    "field = Field()\n",
    "\n",
    "- field[1, 'a'] = 25\n",
    "- field['a', 1] = 25\n",
    "- field['a', '1'] = 25\n",
    "- field['1', 'a'] = 25\n",
    "- field['1a'] = 25\n",
    "- field['a1'] = 25\n",
    "- field[1, 'A'] = 25\n",
    "- field['A', 1] = 25\n",
    "- field['A', '1'] = 25\n",
    "- field['1', 'A'] = 25\n",
    "- field['1A'] = 25\n",
    "- field['A1'] = 25\n",
    "\n",
    "В этом списке каждая из этих строк записывает число 25 в ячейку с одним и тем же ключом. Соответственно, по любому из перечисленных ключей должно быть можно получить это число из объекта field. Также должны быть реализованы удаление элемента из структуры (через оператор del) и возможность использования оператора in, например:\n",
    "\n",
    "- (1, 'a') in field: True\n",
    "- \"A1\" in field: True\n",
    "- ('D', '4') in field: False\n",
    "\n",
    "Таким образом, выходит, что ключом структуры может быть либо кортеж, либо строка. При попытке получить или записать значение по ключу другого типа должно быть вызвано исключение TypeError. При некорректном значении строки или элементов кортежа нужно вызывать исключение ValueError. Корректными значениями будет считать одиночные буквы и неотрицательное целое число любой длины, т.е. правильные варианты ключей:\n",
    "\n",
    "- А1\n",
    "- А222543\n",
    "- Z89\n",
    "\n",
    "Неправильные варианты ключей:\n",
    "\n",
    "- AA5\n",
    "- Q2.5\n",
    "- -6F\n",
    "- A\n",
    "- 27\n",
    "- GG\n",
    "\n",
    "Кроме вышеперчисленного, по объекту должно быть возможно итерироваться. При проходе циклом по объекту должны возвращаться значения, хранящиеся в нём. Порядок возврата значений не важен.\n",
    "\n",
    "Если запрашивается правильный формат ячейки, но в нашем контейнере такого ключа нет, то нужно вернуть None. Например:\n",
    "\n",
    "field = Field()\n",
    "\n",
    "print(field[\"C5\"] is None)\n",
    "\n",
    "\\> True\n",
    "\n",
    "#### Примечания\n",
    "В своем решении этого задания я использовал в качестве ключей хранимого словаря frozenset, а проверку на ValueError реализовал через регулярку. Также рекомендую проверку типов и преобразование поступившего ключа в тот вид, в котором он хранится \"под капотом\", вынести в отдельный метод и вызывать его из всех описываемых магических методов."
   ]
  },
  {
   "cell_type": "code",
   "execution_count": 1,
   "id": "ef2f0845-667c-4e58-98c9-ff512492a56d",
   "metadata": {},
   "outputs": [],
   "source": [
    "import re\n",
    "class Field(dict):\n",
    "    \n",
    "    def key_trans_and_comp(self,key):\n",
    "        comp_pat1 = re.compile(r'[a-zа-яё]\\d+$')\n",
    "        comp_pat2 = re.compile(r'\\d+[a-zа-яё]$')\n",
    "        if type(key) == tuple and len(key) == 2:\n",
    "            key = list(key)\n",
    "            for i in range(len(key)):\n",
    "                if type(key[i]) == int:\n",
    "                    key[i] = str(key[i])\n",
    "                elif type(key[i]) == str:\n",
    "                    pass\n",
    "                else:\n",
    "                    raise ValueError\n",
    "            key = ''.join(key)\n",
    "        if type(key) == str:\n",
    "            key = key.lower()\n",
    "        else:\n",
    "            raise TypeError\n",
    "        if comp_pat1.match(key):\n",
    "            return key\n",
    "        if comp_pat2.match(key):\n",
    "            return key[::-1]\n",
    "        else:\n",
    "            raise ValueError\n",
    "            \n",
    "    def __getitem__(self, key):\n",
    "        return super(Field, self).__getitem__(self.key_trans_and_comp(key))\n",
    "    \n",
    "    def __setitem__(self, key, value):\n",
    "        super(Field, self).__setitem__(self.key_trans_and_comp(key), value)\n",
    "        \n",
    "    def __delitem__(self, key):\n",
    "        super(Field, self).__delitem__(self.key_trans_and_comp(key))\n",
    "    \n",
    "    def __missing__(self, key):\n",
    "        return None\n",
    "    \n",
    "    def __contains__(self, item):\n",
    "        return self[item] != self.__missing__(1)\n",
    "    \n",
    "    def __iter__(self):\n",
    "        for elem in self.values():\n",
    "            yield elem"
   ]
  },
  {
   "cell_type": "code",
   "execution_count": 2,
   "id": "d83875ad-d126-432b-9027-39fe2d104ef7",
   "metadata": {},
   "outputs": [
    {
     "data": {
      "text/plain": [
       "25"
      ]
     },
     "execution_count": 2,
     "metadata": {},
     "output_type": "execute_result"
    }
   ],
   "source": [
    "field = Field()\n",
    "field['a', 1] = 25\n",
    "field['a', 2] = 31\n",
    "field['b', 1] = 99\n",
    "field['b', 2] = 42\n",
    "field['a', 1]"
   ]
  },
  {
   "cell_type": "code",
   "execution_count": 3,
   "id": "1ba0e175-fcea-429e-a13b-bfdf013eb4d4",
   "metadata": {},
   "outputs": [
    {
     "name": "stdout",
     "output_type": "stream",
     "text": [
      "True\n"
     ]
    }
   ],
   "source": [
    "print(field[\"C5\"] is None)"
   ]
  },
  {
   "cell_type": "code",
   "execution_count": 4,
   "id": "3aff8939-549e-4908-8d52-f7e2812adaf7",
   "metadata": {},
   "outputs": [
    {
     "ename": "TypeError",
     "evalue": "",
     "output_type": "error",
     "traceback": [
      "\u001b[1;31m---------------------------------------------------------------------------\u001b[0m",
      "\u001b[1;31mTypeError\u001b[0m                                 Traceback (most recent call last)",
      "Input \u001b[1;32mIn [4]\u001b[0m, in \u001b[0;36m<cell line: 1>\u001b[1;34m()\u001b[0m\n\u001b[1;32m----> 1\u001b[0m field[\u001b[38;5;124m'\u001b[39m\u001b[38;5;124ma\u001b[39m\u001b[38;5;124m'\u001b[39m, \u001b[38;5;241m1\u001b[39m, \u001b[38;5;241m10\u001b[39m, \u001b[38;5;241m11\u001b[39m] \u001b[38;5;241m=\u001b[39m \u001b[38;5;241m25\u001b[39m\n",
      "Input \u001b[1;32mIn [1]\u001b[0m, in \u001b[0;36mField.__setitem__\u001b[1;34m(self, key, value)\u001b[0m\n\u001b[0;32m     31\u001b[0m \u001b[38;5;28;01mdef\u001b[39;00m \u001b[38;5;21m__setitem__\u001b[39m(\u001b[38;5;28mself\u001b[39m, key, value):\n\u001b[1;32m---> 32\u001b[0m     \u001b[38;5;28msuper\u001b[39m(Field, \u001b[38;5;28mself\u001b[39m)\u001b[38;5;241m.\u001b[39m\u001b[38;5;21m__setitem__\u001b[39m(\u001b[38;5;28;43mself\u001b[39;49m\u001b[38;5;241;43m.\u001b[39;49m\u001b[43mkey_trans_and_comp\u001b[49m\u001b[43m(\u001b[49m\u001b[43mkey\u001b[49m\u001b[43m)\u001b[49m, value)\n",
      "Input \u001b[1;32mIn [1]\u001b[0m, in \u001b[0;36mField.key_trans_and_comp\u001b[1;34m(self, key)\u001b[0m\n\u001b[0;32m     18\u001b[0m     key \u001b[38;5;241m=\u001b[39m key\u001b[38;5;241m.\u001b[39mlower()\n\u001b[0;32m     19\u001b[0m \u001b[38;5;28;01melse\u001b[39;00m:\n\u001b[1;32m---> 20\u001b[0m     \u001b[38;5;28;01mraise\u001b[39;00m \u001b[38;5;167;01mTypeError\u001b[39;00m\n\u001b[0;32m     21\u001b[0m \u001b[38;5;28;01mif\u001b[39;00m comp_pat1\u001b[38;5;241m.\u001b[39mmatch(key):\n\u001b[0;32m     22\u001b[0m     \u001b[38;5;28;01mreturn\u001b[39;00m key\n",
      "\u001b[1;31mTypeError\u001b[0m: "
     ]
    }
   ],
   "source": [
    "field['a', 1, 10, 11] = 25 #должна быть ошибка типа"
   ]
  },
  {
   "cell_type": "code",
   "execution_count": 5,
   "id": "bbe39c8a-87ad-4594-b747-91d340a5e4fe",
   "metadata": {},
   "outputs": [
    {
     "ename": "ValueError",
     "evalue": "",
     "output_type": "error",
     "traceback": [
      "\u001b[1;31m---------------------------------------------------------------------------\u001b[0m",
      "\u001b[1;31mValueError\u001b[0m                                Traceback (most recent call last)",
      "Input \u001b[1;32mIn [5]\u001b[0m, in \u001b[0;36m<cell line: 1>\u001b[1;34m()\u001b[0m\n\u001b[1;32m----> 1\u001b[0m field[\u001b[38;5;124m'\u001b[39m\u001b[38;5;124ma\u001b[39m\u001b[38;5;124m'\u001b[39m, \u001b[38;5;241m2.5\u001b[39m] \u001b[38;5;241m=\u001b[39m \u001b[38;5;241m25\u001b[39m\n",
      "Input \u001b[1;32mIn [1]\u001b[0m, in \u001b[0;36mField.__setitem__\u001b[1;34m(self, key, value)\u001b[0m\n\u001b[0;32m     31\u001b[0m \u001b[38;5;28;01mdef\u001b[39;00m \u001b[38;5;21m__setitem__\u001b[39m(\u001b[38;5;28mself\u001b[39m, key, value):\n\u001b[1;32m---> 32\u001b[0m     \u001b[38;5;28msuper\u001b[39m(Field, \u001b[38;5;28mself\u001b[39m)\u001b[38;5;241m.\u001b[39m\u001b[38;5;21m__setitem__\u001b[39m(\u001b[38;5;28;43mself\u001b[39;49m\u001b[38;5;241;43m.\u001b[39;49m\u001b[43mkey_trans_and_comp\u001b[49m\u001b[43m(\u001b[49m\u001b[43mkey\u001b[49m\u001b[43m)\u001b[49m, value)\n",
      "Input \u001b[1;32mIn [1]\u001b[0m, in \u001b[0;36mField.key_trans_and_comp\u001b[1;34m(self, key)\u001b[0m\n\u001b[0;32m     13\u001b[0m             \u001b[38;5;28;01mpass\u001b[39;00m\n\u001b[0;32m     14\u001b[0m         \u001b[38;5;28;01melse\u001b[39;00m:\n\u001b[1;32m---> 15\u001b[0m             \u001b[38;5;28;01mraise\u001b[39;00m \u001b[38;5;167;01mValueError\u001b[39;00m\n\u001b[0;32m     16\u001b[0m     key \u001b[38;5;241m=\u001b[39m \u001b[38;5;124m'\u001b[39m\u001b[38;5;124m'\u001b[39m\u001b[38;5;241m.\u001b[39mjoin(key)\n\u001b[0;32m     17\u001b[0m \u001b[38;5;28;01mif\u001b[39;00m \u001b[38;5;28mtype\u001b[39m(key) \u001b[38;5;241m==\u001b[39m \u001b[38;5;28mstr\u001b[39m:\n",
      "\u001b[1;31mValueError\u001b[0m: "
     ]
    }
   ],
   "source": [
    "field['a', 2.5] = 25 #должна быть ошибка значения"
   ]
  },
  {
   "cell_type": "code",
   "execution_count": 6,
   "id": "d8601882-9f51-42ae-b03f-ee0e9a059b06",
   "metadata": {},
   "outputs": [
    {
     "ename": "ValueError",
     "evalue": "",
     "output_type": "error",
     "traceback": [
      "\u001b[1;31m---------------------------------------------------------------------------\u001b[0m",
      "\u001b[1;31mValueError\u001b[0m                                Traceback (most recent call last)",
      "Input \u001b[1;32mIn [6]\u001b[0m, in \u001b[0;36m<cell line: 1>\u001b[1;34m()\u001b[0m\n\u001b[1;32m----> 1\u001b[0m field[\u001b[38;5;124m'\u001b[39m\u001b[38;5;124ma2.5\u001b[39m\u001b[38;5;124m'\u001b[39m] \u001b[38;5;241m=\u001b[39m \u001b[38;5;241m25\u001b[39m\n",
      "Input \u001b[1;32mIn [1]\u001b[0m, in \u001b[0;36mField.__setitem__\u001b[1;34m(self, key, value)\u001b[0m\n\u001b[0;32m     31\u001b[0m \u001b[38;5;28;01mdef\u001b[39;00m \u001b[38;5;21m__setitem__\u001b[39m(\u001b[38;5;28mself\u001b[39m, key, value):\n\u001b[1;32m---> 32\u001b[0m     \u001b[38;5;28msuper\u001b[39m(Field, \u001b[38;5;28mself\u001b[39m)\u001b[38;5;241m.\u001b[39m\u001b[38;5;21m__setitem__\u001b[39m(\u001b[38;5;28;43mself\u001b[39;49m\u001b[38;5;241;43m.\u001b[39;49m\u001b[43mkey_trans_and_comp\u001b[49m\u001b[43m(\u001b[49m\u001b[43mkey\u001b[49m\u001b[43m)\u001b[49m, value)\n",
      "Input \u001b[1;32mIn [1]\u001b[0m, in \u001b[0;36mField.key_trans_and_comp\u001b[1;34m(self, key)\u001b[0m\n\u001b[0;32m     24\u001b[0m     \u001b[38;5;28;01mreturn\u001b[39;00m key[::\u001b[38;5;241m-\u001b[39m\u001b[38;5;241m1\u001b[39m]\n\u001b[0;32m     25\u001b[0m \u001b[38;5;28;01melse\u001b[39;00m:\n\u001b[1;32m---> 26\u001b[0m     \u001b[38;5;28;01mraise\u001b[39;00m \u001b[38;5;167;01mValueError\u001b[39;00m\n",
      "\u001b[1;31mValueError\u001b[0m: "
     ]
    }
   ],
   "source": [
    "field['a2.5'] = 25 #должна быть ошибка значения"
   ]
  },
  {
   "cell_type": "code",
   "execution_count": 7,
   "id": "4401e10a-dfff-4750-9836-7bb937266f36",
   "metadata": {},
   "outputs": [
    {
     "name": "stdout",
     "output_type": "stream",
     "text": [
      "True\n",
      "True\n",
      "True\n",
      "False\n"
     ]
    }
   ],
   "source": [
    "print('a1' in field)\n",
    "print('b2' in field)\n",
    "print(('a', 1) in field)\n",
    "print('c1' in field)\n"
   ]
  },
  {
   "cell_type": "code",
   "execution_count": 8,
   "id": "d387ab22-b1da-42ce-9be3-9b5684325769",
   "metadata": {},
   "outputs": [
    {
     "name": "stdout",
     "output_type": "stream",
     "text": [
      "{'a1': 25, 'a2': 31, 'b1': 99, 'b2': 42}\n"
     ]
    }
   ],
   "source": [
    "print(field)"
   ]
  },
  {
   "cell_type": "code",
   "execution_count": 9,
   "id": "d5cc8527-c89f-4a52-8f0c-6ce8b178f782",
   "metadata": {},
   "outputs": [
    {
     "data": {
      "text/plain": [
       "25"
      ]
     },
     "execution_count": 9,
     "metadata": {},
     "output_type": "execute_result"
    }
   ],
   "source": [
    "a = field.__iter__()\n",
    "a.__next__()"
   ]
  },
  {
   "cell_type": "code",
   "execution_count": 10,
   "id": "c24e6476-a828-4372-8360-85528cfa2630",
   "metadata": {},
   "outputs": [
    {
     "name": "stdout",
     "output_type": "stream",
     "text": [
      "31\n",
      "99\n",
      "42\n"
     ]
    }
   ],
   "source": [
    "print(a.__next__())\n",
    "print(a.__next__())\n",
    "print(a.__next__())"
   ]
  },
  {
   "cell_type": "markdown",
   "id": "5d7eeed2-9c70-4f88-ab8f-901be02c1bd9",
   "metadata": {},
   "source": [
    "# 19. Доступ к атрибутам\n",
    "Доработать класс `Field` так, чтобы вдобавок к реализованному функционалу появились следующие возможности:\n",
    "\n",
    "`field = Field()`\n",
    "- Запись значения в ячейку:\n",
    "    - `field.a1 = 25` - эквивалентно `field['a1'] = 25`\n",
    "    - `field.A1 = 25` - то же самое\n",
    "- Получение значения:\n",
    "`field['b', 2] = 100\n",
    "field.b2\n",
    "field.B2`\n",
    "\n",
    "- Удаление значения:\n",
    "`del field.a1`, `del field.A1` - эквивалентно `del field['a', 1]`\n",
    "\n",
    "Таким образом, внутри класса `Field` методы работы с атрибутами должны работать с тем же объектом, в котором хранятся значения, обрабатываемые в методах `__setitem__`, `__getitem__`, `__delitem__`.\n",
    "\n",
    "Кроме того, обычное присвоение и получение атрибутов (тех, которые не являются адресом ячейки данных нашего класса) должно производиться по стандартному алгоритму питоновских объектов, т.е. они должны храниться в словаре `__dict__` объекта.\n",
    "\n",
    "`field = Field()\n",
    "field.abcde = 125\n",
    "field.__dict__['abcde'] == 125`\n",
    "\n",
    "Для таких атрибутов также должны быть реализованы получение, присваивание и удаление значения."
   ]
  },
  {
   "cell_type": "code",
   "execution_count": 11,
   "id": "b36e59cb-e1db-4d1e-ba9a-f967c4574edb",
   "metadata": {},
   "outputs": [],
   "source": [
    "import re\n",
    "class Field(dict):\n",
    "    \n",
    "    def key_trans_and_comp(self,key):\n",
    "        comp_pat1 = re.compile(r'[a-zа-яё]\\d+$')\n",
    "        comp_pat2 = re.compile(r'\\d+[a-zа-яё]$')\n",
    "        if type(key) == tuple and len(key) == 2:\n",
    "            key = list(key)\n",
    "            for i in range(len(key)):\n",
    "                if type(key[i]) == int:\n",
    "                    key[i] = str(key[i])\n",
    "                elif type(key[i]) == str:\n",
    "                    pass\n",
    "                else:\n",
    "                    raise ValueError\n",
    "            key = ''.join(key)\n",
    "        if type(key) == str:\n",
    "            key = key.lower()\n",
    "        else:\n",
    "            raise TypeError\n",
    "        if comp_pat1.match(key):\n",
    "            return key\n",
    "        if comp_pat2.match(key):\n",
    "            return key[::-1]\n",
    "        else:\n",
    "            raise ValueError\n",
    "            \n",
    "    def name_comp(self, name):\n",
    "        comp_pat = re.compile(r'[A-Za-zА-Яа-яёЁ]\\d+$')\n",
    "        if comp_pat.match(name):\n",
    "            return True\n",
    "        else:\n",
    "            False        \n",
    "            \n",
    "    def __getitem__(self, key):\n",
    "        return super(Field, self).__getitem__(self.key_trans_and_comp(key))\n",
    "    \n",
    "    def __setitem__(self, key, value):\n",
    "        super(Field, self).__setitem__(self.key_trans_and_comp(key), value)\n",
    "        self.__dict__.update(self)\n",
    "        \n",
    "    def __delitem__(self, key):\n",
    "        super(Field, self).__delitem__(self.key_trans_and_comp(key))\n",
    "        del self.__dict__[self.key_trans_and_comp(key)]\n",
    "    \n",
    "    def __missing__(self, key):\n",
    "        return None\n",
    "    \n",
    "    def __contains__(self, item):\n",
    "        return self[item] != self.__missing__(1)\n",
    "    \n",
    "    def __iter__(self):\n",
    "        for elem in self.values():\n",
    "            yield elem          \n",
    "        \n",
    "    def __setattr__(self, name, value):\n",
    "        if self.name_comp(name):\n",
    "            name = name.lower()\n",
    "            self.update({name : value})\n",
    "            self.__dict__.update(self)\n",
    "        else:\n",
    "            self.__dict__.update({name : value})\n",
    "    \n",
    "    def __delattr__(self, name):\n",
    "        if self.name_comp(name):\n",
    "            name = name.lower()\n",
    "            del self[name]\n",
    "        else:\n",
    "            del self.__dict__[name]\n",
    "        \n",
    "    def __getattr__(self, name):\n",
    "        if self.name_comp(name):\n",
    "            name = name.lower()\n",
    "            return self.__dict__[name]\n",
    "        else:\n",
    "            return self.__dict__[name]"
   ]
  },
  {
   "cell_type": "code",
   "execution_count": 12,
   "id": "93fd66a0-7000-4159-8ff7-e4847812a95d",
   "metadata": {},
   "outputs": [
    {
     "data": {
      "text/plain": [
       "25"
      ]
     },
     "execution_count": 12,
     "metadata": {},
     "output_type": "execute_result"
    }
   ],
   "source": [
    "field1 = Field()\n",
    "field1['a', 1] = 25\n",
    "field1['a', 2] = 31\n",
    "field1['b', 1] = 99\n",
    "field1['b', 2] = 42\n",
    "field1['a', 1]"
   ]
  },
  {
   "cell_type": "code",
   "execution_count": 13,
   "id": "f3754eff-935a-4466-9ea8-8461fc082eab",
   "metadata": {},
   "outputs": [
    {
     "data": {
      "text/plain": [
       "{'a1': 25, 'a2': 31, 'b1': 99, 'b2': 42}"
      ]
     },
     "execution_count": 13,
     "metadata": {},
     "output_type": "execute_result"
    }
   ],
   "source": [
    "field1.__dict__"
   ]
  },
  {
   "cell_type": "code",
   "execution_count": 14,
   "id": "751894e9-2aa0-4f24-a17c-4c5a234370ad",
   "metadata": {},
   "outputs": [],
   "source": [
    "field1.uiytuy = 12"
   ]
  },
  {
   "cell_type": "code",
   "execution_count": 15,
   "id": "ab0df9cd-216d-4d81-8059-604c33790fc7",
   "metadata": {},
   "outputs": [
    {
     "data": {
      "text/plain": [
       "{'a1': 25, 'a2': 31, 'b1': 99, 'b2': 42, 'uiytuy': 12}"
      ]
     },
     "execution_count": 15,
     "metadata": {},
     "output_type": "execute_result"
    }
   ],
   "source": [
    "field1.__dict__"
   ]
  },
  {
   "cell_type": "code",
   "execution_count": 16,
   "id": "cb77b5be-c1ce-451e-b4b7-3734fac1e560",
   "metadata": {},
   "outputs": [
    {
     "data": {
      "text/plain": [
       "{'a1': 25, 'a2': 31, 'b1': 99, 'b2': 42}"
      ]
     },
     "execution_count": 16,
     "metadata": {},
     "output_type": "execute_result"
    }
   ],
   "source": [
    "field1"
   ]
  },
  {
   "cell_type": "code",
   "execution_count": 17,
   "id": "4b3a2c5e-6279-425d-8822-c7477d96714a",
   "metadata": {},
   "outputs": [
    {
     "data": {
      "text/plain": [
       "12"
      ]
     },
     "execution_count": 17,
     "metadata": {},
     "output_type": "execute_result"
    }
   ],
   "source": [
    "field1.uiytuy"
   ]
  },
  {
   "cell_type": "code",
   "execution_count": 18,
   "id": "5f6b7b0b-3310-4b1f-8c0a-530bd63a71f1",
   "metadata": {},
   "outputs": [],
   "source": [
    "del field1.uiytuy"
   ]
  },
  {
   "cell_type": "code",
   "execution_count": 19,
   "id": "8ed9c1ed-155a-4460-97f9-182a608d6772",
   "metadata": {},
   "outputs": [
    {
     "data": {
      "text/plain": [
       "{'a1': 25, 'a2': 31, 'b1': 99, 'b2': 42}"
      ]
     },
     "execution_count": 19,
     "metadata": {},
     "output_type": "execute_result"
    }
   ],
   "source": [
    "field1.__dict__"
   ]
  },
  {
   "cell_type": "code",
   "execution_count": 20,
   "id": "8047db33-bcfb-4764-be29-f60d813cbc65",
   "metadata": {},
   "outputs": [
    {
     "data": {
      "text/plain": [
       "{'a1': 25, 'a2': 31, 'b1': 99, 'b2': 42}"
      ]
     },
     "execution_count": 20,
     "metadata": {},
     "output_type": "execute_result"
    }
   ],
   "source": [
    "field1"
   ]
  },
  {
   "cell_type": "code",
   "execution_count": 21,
   "id": "ff571bd2-20df-49fb-a981-076773476770",
   "metadata": {},
   "outputs": [],
   "source": [
    "field1.A1 = 10\n",
    "field1.AAa22222 = 100"
   ]
  },
  {
   "cell_type": "code",
   "execution_count": 22,
   "id": "37c138bf-46e5-4503-a46b-b42dc0fc19cd",
   "metadata": {},
   "outputs": [
    {
     "name": "stdout",
     "output_type": "stream",
     "text": [
      "{'a1': 10, 'a2': 31, 'b1': 99, 'b2': 42}\n",
      "{'a1': 10, 'a2': 31, 'b1': 99, 'b2': 42, 'AAa22222': 100}\n",
      "10\n",
      "10\n"
     ]
    }
   ],
   "source": [
    "print(field1)\n",
    "print(field1.__dict__)\n",
    "print(field1.a1)\n",
    "print(field1.A1)"
   ]
  },
  {
   "cell_type": "code",
   "execution_count": 23,
   "id": "e03ac2dc-5fac-4dda-9ba0-0b52e2f6e480",
   "metadata": {},
   "outputs": [
    {
     "name": "stdout",
     "output_type": "stream",
     "text": [
      "{'a1': 10, 'a2': 31, 'b2': 42}\n",
      "{'a1': 10, 'a2': 31, 'b2': 42, 'AAa22222': 100}\n"
     ]
    }
   ],
   "source": [
    "del field1['b', 1]\n",
    "print(field1)\n",
    "print(field1.__dict__)"
   ]
  },
  {
   "cell_type": "code",
   "execution_count": 24,
   "id": "4a879700-03af-4144-ad14-546a67a5e3cc",
   "metadata": {},
   "outputs": [
    {
     "name": "stdout",
     "output_type": "stream",
     "text": [
      "{'a2': 31, 'b2': 42}\n",
      "{'a2': 31, 'b2': 42, 'AAa22222': 100}\n"
     ]
    }
   ],
   "source": [
    "del field1.A1\n",
    "print(field1)\n",
    "print(field1.__dict__)"
   ]
  },
  {
   "cell_type": "markdown",
   "id": "bf35ee5b-93ff-4f92-91b2-b276c36b1ba3",
   "metadata": {},
   "source": [
    "# 20. Исключения\n",
    "Напишем часть сервиса, который будет помогать бронировать переговорки в офисе. Для этого опишем класс `Booking` - его объекты будут содержать информацию о конкретном бронировании, а также вспомогательную функцию `create_booking`, которая будет создавать новый объект бронирования и записывать информацию о бронировании в базу данных бронирований через предоставляемое API. Возвращать она должна будет статус создания бронирования (получилось или переговорка уже занята) и информацию о брони в формате JSON. Ниже - подробности.\n",
    "\n",
    "Класс `Booking` должен обладать следующим функционалом.\n",
    "\n",
    "- конструктор должен принимать три аргумента в следующем порядке: название переговорки, datetime начала брони и datetime конца брони\n",
    "- внутри конструктора, если datetime конца брони оказался раньше, чем datetime начала, нужно вызвать исключение ValueError\n",
    "\n",
    "Также у объектов этого класса должны быть следующие поля (рекомендую сделать часть из них в виде проперти):\n",
    "\n",
    "- `room_name`: название переговорки, полученное из конструктора\n",
    "- `start`: datetime начала брони. Должна быть возможность назначить новое время начала уже созданной брони\n",
    "- `end`: datetime конца брони. Должна быть возможность назначить новое время конца уже созданной брони\n",
    "- `duration`: длительность бронирования в минутах (гарантируется, что длительность любой встречи кратна одной минуте, поэтому это должно быть целое число)\n",
    "- `start_date`: дата начала брони в формате YYYY-MM-DD (строка)\n",
    "- `end_date`: дата конца брони в формате YYYY-MM-DD (строка)\n",
    "- `start_time`: время начала брони в формате HH-MM (строка)\n",
    "- `end_time`: время конца брони в формате HH-MM (строка)\n",
    "\n",
    "Функция create_booking должна обладать следующей сигнатурой:\n",
    "\n",
    "`create_booking(room_name, start, end) -> str`,\n",
    "\n",
    "где аргументы - это те же аргументы, которые принимает конструктор Booking, а выходная строка - это json определенного формата, который описан чуть ниже по тексту.\n",
    "\n",
    "Будем считать, что взаимодействие с базой данных у нас уже описано нашим коллегой в соседнем файле api.py. В нем есть уже готовая функция `register_booking`, которая:\n",
    "\n",
    "- принимает на вход объект класса Booking\n",
    "- возвращает True, если бронирование получилось создать\n",
    "- возвращает False, если мы пытаемся забронировать уже занятую в это время переговорку\n",
    "- если такой переговорки не существует, вызывается KeyError\n",
    "\n",
    "Таким образом, в том же файле, что и класс Booking, вам нужно описать фукнцию `create_booking`, которая:\n",
    "\n",
    "- обладает сигнатурой create_booking(room_name, start, end) -> str, где аргументы - те же, что и в конструкторе Booking\n",
    "- в самом начале своей работы выводит на экран текст: Начинаем создание бронирования\n",
    "- внутри функции создается объект класса Booking, а также вызывается функция register_booking, которая принимает на вход созданный объект. Должны быть обработаны все случаи работы register_booking: True, False и KeyError. Сделать это поможет конструкция try-except\n",
    "- перед выходом из функции должно выводиться на экран сообщение Заканчиваем создание бронирования. Это должно происходить в любом случае, даже если мы попытались создать бронирование с неверными датами и получили ValueError (см. описание класса Booking). Для этого рекомендую использовать блок finally, в котором описать этот print\n",
    "\n",
    "Функция должна возвращать json-строку с ответом, в котором будут содержаться следующие поля:\n",
    "\n",
    "- `created`: true/false, получилось ли забронировать комнату. Если возникло KeyError, то нужно здесь записать false\n",
    "- `msg`: сообщение с пояснениями. Сообщение должно быть одним из следующих: Бронирование создано, Комната занята, Комната не найдена. Сообщение выбирается на основе того, что вернет функция `register_booking`\n",
    "- `booking`: это бронирование в виде json-строки. Должны содержаться поля: room_name, duration, start_date, end_date, start_time, end_time.\n",
    "\n",
    "#### Формат ввода\n",
    "result = create_booking(\n",
    "    \n",
    "    \"Вагнер\",\n",
    "    \n",
    "    datetime.datetime(2022, 9, 1, 14),\n",
    "    \n",
    "    datetime.datetime(2022, 9, 1, 15, 15)\n",
    "\n",
    ")\n",
    "\n",
    "print(result)\n",
    "\n",
    "#### Формат вывода\n",
    "Вывод на экран:\n",
    "\n",
    "Начинаем создание бронирования\n",
    "\n",
    "Заканчиваем создание бронирования\n",
    "\n",
    "Функция возвращает:\n",
    "\n",
    "{\n",
    "  \n",
    "  \"created\": false,\n",
    "  \n",
    "  \"msg\": \"Комната занята\",\n",
    "  \n",
    "  \"booking\": {\n",
    "    \n",
    "    \"room_name\": \"Вагнер\",\n",
    "    \n",
    "    \"start_date\": \"2022-09-01\",\n",
    "    \n",
    "    \"start_time\": \"14:00\",\n",
    "    \n",
    "    \"end_date\": \"2022-09-01\",\n",
    "    \n",
    "    \"end_time\": \"15:15\",\n",
    "    \n",
    "    \"duration\": 75\n",
    "  \n",
    "  }\n",
    "\n",
    "}\n",
    "\n",
    "#### Примечания\n",
    "Пример написания функции create_booking:\n",
    "\n",
    "from api import register_booking\n",
    "\n",
    "def create_booking(room_name, start, end):\n",
    "    booking = Booking(........)\n",
    "    try:\n",
    "        result = register_booking(booking)\n",
    "    except ....:\n",
    "        ....\n",
    "\n",
    "    return json.dumps(......)\n"
   ]
  },
  {
   "cell_type": "code",
   "execution_count": 25,
   "id": "0f265870-900e-4fc9-92dd-0064a47c0a24",
   "metadata": {},
   "outputs": [],
   "source": [
    "import datetime\n",
    "import json\n",
    "class Booking:\n",
    "    \n",
    "    def __init__(self, room_name, start, end):\n",
    "        if start > end:\n",
    "            raise ValueError\n",
    "        else:    \n",
    "            self.room_name = room_name\n",
    "            self.start = start\n",
    "            self.end = end\n",
    "    \n",
    "    @property\n",
    "    def duration(self):\n",
    "        return (self.end - self.start).seconds // 60\n",
    "    \n",
    "    @property\n",
    "    def start_date(self):\n",
    "        return \"{:04}-{:02}-{:02}\".format(self.start.year, self.start.month, self.start.day)\n",
    "    \n",
    "    @property\n",
    "    def end_date(self):\n",
    "        return \"{:04}-{:02}-{:02}\".format(self.end.year, self.end.month, self.end.day)\n",
    "    \n",
    "    @property\n",
    "    def start_time(self):\n",
    "        return \"{:02}:{:02}\".format(self.start.hour, self.start.minute)\n",
    "    \n",
    "    @property\n",
    "    def end_time(self):\n",
    "        return \"{:02}:{:02}\".format(self.end.hour, self.end.minute)\n",
    "    \n",
    "def create_booking(room_name, start, end):\n",
    "    print('Начинаем создание бронирования')\n",
    "    booking = Booking(room_name, start, end)\n",
    "    try:\n",
    "        result = register_booking(booking)\n",
    "        if result == True:\n",
    "            msg = 'Бронирование создано'\n",
    "        elif result == False:\n",
    "            msg = 'Комната занята'\n",
    "    except KeyError:\n",
    "        result = False\n",
    "        msg = 'Комната не найдена'\n",
    "    finally:\n",
    "        print('Заканчиваем создание бронирования')\n",
    "    return json.dumps({\"created\": result,\n",
    "                       \"msg\": msg,\n",
    "                       \"booking\": {\"room_name\": booking.room_name,\n",
    "                                   \"start_date\": booking.start_date,\n",
    "                                   \"start_time\": booking.start_time,\n",
    "                                   \"end_date\": booking.end_date,\n",
    "                                   \"end_time\": booking.end_time,\n",
    "                                   \"duration\": booking.duration}\n",
    "                      })    "
   ]
  },
  {
   "cell_type": "code",
   "execution_count": 26,
   "id": "0762282b-8d8b-4137-93d0-ac0f307f70ee",
   "metadata": {},
   "outputs": [
    {
     "name": "stdout",
     "output_type": "stream",
     "text": [
      "{'room_name': 'Вагнер', 'start_date': '2022-09-01', 'start_time': '14:00', 'end_date': '2022-09-01', 'end_time': '15:15', 'duration': 75}\n"
     ]
    }
   ],
   "source": [
    "booking = Booking(\"Вагнер\",datetime.datetime(2022, 9, 1, 14),datetime.datetime(2022, 9, 1, 15, 15))\n",
    "print({\"room_name\": booking.room_name,\n",
    "                                   \"start_date\": booking.start_date,\n",
    "                                   \"start_time\": booking.start_time,\n",
    "                                   \"end_date\": booking.end_date,\n",
    "                                   \"end_time\": booking.end_time,\n",
    "                                   \"duration\": booking.duration})"
   ]
  },
  {
   "cell_type": "code",
   "execution_count": 27,
   "id": "97dd291a-6c60-42d0-b908-29da8f823892",
   "metadata": {},
   "outputs": [
    {
     "data": {
      "text/plain": [
       "75"
      ]
     },
     "execution_count": 27,
     "metadata": {},
     "output_type": "execute_result"
    }
   ],
   "source": [
    "(datetime.datetime(2022, 9, 1, 15, 15) - datetime.datetime(2022, 9, 1, 14)).seconds // 60"
   ]
  },
  {
   "cell_type": "code",
   "execution_count": 28,
   "id": "838ee2e7-b87e-4b2f-a5f3-6040c78b2c18",
   "metadata": {},
   "outputs": [
    {
     "data": {
      "text/plain": [
       "15"
      ]
     },
     "execution_count": 28,
     "metadata": {},
     "output_type": "execute_result"
    }
   ],
   "source": [
    "datetime.datetime(2022, 9, 1, 15, 15).minute"
   ]
  },
  {
   "cell_type": "code",
   "execution_count": null,
   "id": "da016370-c232-4d63-aaea-471ce4a74a1f",
   "metadata": {},
   "outputs": [],
   "source": []
  }
 ],
 "metadata": {
  "kernelspec": {
   "display_name": "Python 3 (ipykernel)",
   "language": "python",
   "name": "python3"
  },
  "language_info": {
   "codemirror_mode": {
    "name": "ipython",
    "version": 3
   },
   "file_extension": ".py",
   "mimetype": "text/x-python",
   "name": "python",
   "nbconvert_exporter": "python",
   "pygments_lexer": "ipython3",
   "version": "3.9.12"
  }
 },
 "nbformat": 4,
 "nbformat_minor": 5
}
